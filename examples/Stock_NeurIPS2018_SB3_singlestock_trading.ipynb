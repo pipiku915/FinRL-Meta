{
 "cells": [
  {
   "cell_type": "markdown",
   "metadata": {
    "id": "yfv52r2G33jY"
   },
   "source": [
    "<a href=\"https://colab.research.google.com/github/AI4Finance-Foundation/FinRL-Tutorials/blob/master/1-Introduction/Stock_NeurIPS2018_SB3.ipynb\" target=\"_parent\"><img src=\"https://colab.research.google.com/assets/colab-badge.svg\" alt=\"Open In Colab\"/></a>"
   ]
  },
  {
   "cell_type": "markdown",
   "metadata": {
    "id": "gXaoZs2lh1hi"
   },
   "source": [
    "# Deep Reinforcement Learning for Stock Trading from Scratch: Multiple Stock Trading\n",
    "\n",
    "* **Pytorch Version** \n",
    "\n"
   ]
  },
  {
   "cell_type": "markdown",
   "metadata": {
    "id": "lGunVt8oLCVS"
   },
   "source": [
    "# Content"
   ]
  },
  {
   "cell_type": "markdown",
   "metadata": {
    "id": "HOzAKQ-SLGX6"
   },
   "source": [
    "* [1. Task Description](#0)\n",
    "* [2. Install Python packages](#1)\n",
    "    * [2.1. Install Packages](#1.1)    \n",
    "    * [2.2. A List of Python Packages](#1.2)\n",
    "    * [2.3. Import Packages](#1.3)\n",
    "    * [2.4. Create Folders](#1.4)\n",
    "* [3. Download and Preprocess Data](#2)\n",
    "* [4. Preprocess Data](#3)        \n",
    "    * [4.1. Technical Indicators](#3.1)\n",
    "    * [4.2. Perform Feature Engineering](#3.2)\n",
    "* [5. Build Market Environment in OpenAI Gym-style](#4)  \n",
    "    * [5.1. Data Split](#4.1)  \n",
    "    * [5.3. Environment for Training](#4.2)    \n",
    "* [6. Train DRL Agents](#5)\n",
    "* [7. Backtesting Performance](#6)  \n",
    "    * [7.1. BackTestStats](#6.1)\n",
    "    * [7.2. BackTestPlot](#6.2)   \n",
    "  "
   ]
  },
  {
   "cell_type": "markdown",
   "metadata": {
    "id": "sApkDlD9LIZv"
   },
   "source": [
    "<a id='0'></a>\n",
    "# Part 1. Task Discription"
   ]
  },
  {
   "cell_type": "markdown",
   "metadata": {
    "id": "HjLD2TZSLKZ-"
   },
   "source": [
    "We train a DRL agent for stock trading. This task is modeled as a Markov Decision Process (MDP), and the objective function is maximizing (expected) cumulative return.\n",
    "\n",
    "We specify the state-action-reward as follows:\n",
    "\n",
    "* **State s**: The state space represents an agent's perception of the market environment. Just like a human trader analyzing various information, here our agent passively observes many features and learns by interacting with the market environment (usually by replaying historical data).\n",
    "\n",
    "* **Action a**: The action space includes allowed actions that an agent can take at each state. For example, a ∈ {−1, 0, 1}, where −1, 0, 1 represent\n",
    "selling, holding, and buying. When an action operates multiple shares, a ∈{−k, ..., −1, 0, 1, ..., k}, e.g.. \"Buy\n",
    "10 shares of AAPL\" or \"Sell 10 shares of AAPL\" are 10 or −10, respectively\n",
    "\n",
    "* **Reward function r(s, a, s′)**: Reward is an incentive for an agent to learn a better policy. For example, it can be the change of the portfolio value when taking a at state s and arriving at new state s',  i.e., r(s, a, s′) = v′ − v, where v′ and v represent the portfolio values at state s′ and s, respectively\n",
    "\n",
    "\n",
    "**Market environment**: 30 consituent stocks of Dow Jones Industrial Average (DJIA) index. Accessed at the starting date of the testing period.\n",
    "\n",
    "\n",
    "The data for this case study is obtained from Yahoo Finance API. The data contains Open-High-Low-Close price and volume.\n"
   ]
  },
  {
   "cell_type": "markdown",
   "metadata": {
    "id": "Ffsre789LY08"
   },
   "source": [
    "<a id='1'></a>\n",
    "# Part 2. Install Python Packages"
   ]
  },
  {
   "cell_type": "markdown",
   "metadata": {
    "id": "Uy5_PTmOh1hj"
   },
   "source": [
    "<a id='1.1'></a>\n",
    "## 2.1. Install packages\n"
   ]
  },
  {
   "cell_type": "code",
   "execution_count": 1,
   "metadata": {
    "colab": {
     "base_uri": "https://localhost:8080/"
    },
    "id": "mPT0ipYE28wL",
    "outputId": "02a8a804-d120-4388-a167-20a81cb33d87"
   },
   "outputs": [
    {
     "name": "stdout",
     "output_type": "stream",
     "text": [
      "Requirement already satisfied: wrds in /workspaces/rl-baseline/.venv/lib/python3.10/site-packages (3.1.6)\n",
      "Requirement already satisfied: numpy in /workspaces/rl-baseline/.venv/lib/python3.10/site-packages (from wrds) (1.23.4)\n",
      "Requirement already satisfied: pandas in /workspaces/rl-baseline/.venv/lib/python3.10/site-packages (from wrds) (1.5.3)\n",
      "Requirement already satisfied: psycopg2-binary in /workspaces/rl-baseline/.venv/lib/python3.10/site-packages (from wrds) (2.9.7)\n",
      "Requirement already satisfied: scipy in /workspaces/rl-baseline/.venv/lib/python3.10/site-packages (from wrds) (1.11.2)\n",
      "Requirement already satisfied: sqlalchemy<2 in /workspaces/rl-baseline/.venv/lib/python3.10/site-packages (from wrds) (1.4.50)\n",
      "Requirement already satisfied: greenlet!=0.4.17 in /workspaces/rl-baseline/.venv/lib/python3.10/site-packages (from sqlalchemy<2->wrds) (2.0.2)\n",
      "Requirement already satisfied: python-dateutil>=2.8.1 in /workspaces/rl-baseline/.venv/lib/python3.10/site-packages (from pandas->wrds) (2.8.2)\n",
      "Requirement already satisfied: pytz>=2020.1 in /workspaces/rl-baseline/.venv/lib/python3.10/site-packages (from pandas->wrds) (2023.3.post1)\n",
      "Requirement already satisfied: six>=1.5 in /workspaces/rl-baseline/.venv/lib/python3.10/site-packages (from python-dateutil>=2.8.1->pandas->wrds) (1.16.0)\n",
      "Requirement already satisfied: swig in /workspaces/rl-baseline/.venv/lib/python3.10/site-packages (4.1.1)\n",
      "Collecting git+https://github.com/AI4Finance-Foundation/FinRL.git\n",
      "  Cloning https://github.com/AI4Finance-Foundation/FinRL.git to /tmp/pip-req-build-ovpsxg7d\n",
      "  Running command git clone --filter=blob:none --quiet https://github.com/AI4Finance-Foundation/FinRL.git /tmp/pip-req-build-ovpsxg7d\n",
      "  Resolved https://github.com/AI4Finance-Foundation/FinRL.git to commit d22c4a53c20e3f8d159712a3772ac565afaf3176\n",
      "  Installing build dependencies ... \u001b[?25ldone\n",
      "\u001b[?25h  Getting requirements to build wheel ... \u001b[?25ldone\n",
      "\u001b[?25h  Preparing metadata (pyproject.toml) ... \u001b[?25ldone\n",
      "\u001b[?25hCollecting elegantrl@ git+https://github.com/AI4Finance-Foundation/ElegantRL.git#egg=elegantrl (from finrl==0.3.6)\n",
      "  Cloning https://github.com/AI4Finance-Foundation/ElegantRL.git to /tmp/pip-install-js9vl1cf/elegantrl_51e34ae9df0a4b3cbadd982024a7ecdd\n",
      "  Running command git clone --filter=blob:none --quiet https://github.com/AI4Finance-Foundation/ElegantRL.git /tmp/pip-install-js9vl1cf/elegantrl_51e34ae9df0a4b3cbadd982024a7ecdd\n",
      "  Resolved https://github.com/AI4Finance-Foundation/ElegantRL.git to commit dde7ee4daa226450a43280e4ee02f1f23b565aa2\n",
      "  Preparing metadata (setup.py) ... \u001b[?25ldone\n",
      "\u001b[?25hRequirement already satisfied: alpaca-trade-api<4,>=3 in /workspaces/rl-baseline/.venv/lib/python3.10/site-packages (from finrl==0.3.6) (3.0.2)\n",
      "Requirement already satisfied: ccxt<4,>=3 in /workspaces/rl-baseline/.venv/lib/python3.10/site-packages (from finrl==0.3.6) (3.1.60)\n",
      "Requirement already satisfied: exchange-calendars<5,>=4 in /workspaces/rl-baseline/.venv/lib/python3.10/site-packages (from finrl==0.3.6) (4.5)\n",
      "Requirement already satisfied: jqdatasdk<2,>=1 in /workspaces/rl-baseline/.venv/lib/python3.10/site-packages (from finrl==0.3.6) (1.9.2)\n",
      "Requirement already satisfied: pyfolio<0.10,>=0.9 in /workspaces/rl-baseline/.venv/lib/python3.10/site-packages (from finrl==0.3.6) (0.9.2+75.g4b901f6)\n",
      "Requirement already satisfied: pyportfolioopt<2,>=1 in /workspaces/rl-baseline/.venv/lib/python3.10/site-packages (from finrl==0.3.6) (1.5.5)\n",
      "Requirement already satisfied: ray<3,>=2 in /workspaces/rl-baseline/.venv/lib/python3.10/site-packages (from ray[default,tune]<3,>=2->finrl==0.3.6) (2.8.0)\n",
      "Requirement already satisfied: scikit-learn<2,>=1 in /workspaces/rl-baseline/.venv/lib/python3.10/site-packages (from finrl==0.3.6) (1.3.0)\n",
      "Requirement already satisfied: stable-baselines3>=2.0.0a5 in /workspaces/rl-baseline/.venv/lib/python3.10/site-packages (from stable-baselines3[extra]>=2.0.0a5->finrl==0.3.6) (2.1.0)\n",
      "Requirement already satisfied: stockstats<0.6,>=0.5 in /workspaces/rl-baseline/.venv/lib/python3.10/site-packages (from finrl==0.3.6) (0.5.4)\n",
      "Requirement already satisfied: wrds<4,>=3 in /workspaces/rl-baseline/.venv/lib/python3.10/site-packages (from finrl==0.3.6) (3.1.6)\n",
      "Requirement already satisfied: yfinance<0.3,>=0.2 in /workspaces/rl-baseline/.venv/lib/python3.10/site-packages (from finrl==0.3.6) (0.2.28)\n",
      "Requirement already satisfied: pandas>=0.18.1 in /workspaces/rl-baseline/.venv/lib/python3.10/site-packages (from alpaca-trade-api<4,>=3->finrl==0.3.6) (1.5.3)\n",
      "Requirement already satisfied: numpy>=1.11.1 in /workspaces/rl-baseline/.venv/lib/python3.10/site-packages (from alpaca-trade-api<4,>=3->finrl==0.3.6) (1.23.4)\n",
      "Requirement already satisfied: requests<3,>2 in /workspaces/rl-baseline/.venv/lib/python3.10/site-packages (from alpaca-trade-api<4,>=3->finrl==0.3.6) (2.31.0)\n",
      "Requirement already satisfied: urllib3<2,>1.24 in /workspaces/rl-baseline/.venv/lib/python3.10/site-packages (from alpaca-trade-api<4,>=3->finrl==0.3.6) (1.26.16)\n",
      "Requirement already satisfied: websocket-client<2,>=0.56.0 in /workspaces/rl-baseline/.venv/lib/python3.10/site-packages (from alpaca-trade-api<4,>=3->finrl==0.3.6) (1.6.3)\n",
      "Requirement already satisfied: websockets<11,>=9.0 in /workspaces/rl-baseline/.venv/lib/python3.10/site-packages (from alpaca-trade-api<4,>=3->finrl==0.3.6) (10.4)\n",
      "Requirement already satisfied: msgpack==1.0.3 in /workspaces/rl-baseline/.venv/lib/python3.10/site-packages (from alpaca-trade-api<4,>=3->finrl==0.3.6) (1.0.3)\n",
      "Requirement already satisfied: aiohttp==3.8.2 in /workspaces/rl-baseline/.venv/lib/python3.10/site-packages (from alpaca-trade-api<4,>=3->finrl==0.3.6) (3.8.2)\n",
      "Requirement already satisfied: PyYAML==6.0 in /workspaces/rl-baseline/.venv/lib/python3.10/site-packages (from alpaca-trade-api<4,>=3->finrl==0.3.6) (6.0)\n",
      "Requirement already satisfied: deprecation==2.1.0 in /workspaces/rl-baseline/.venv/lib/python3.10/site-packages (from alpaca-trade-api<4,>=3->finrl==0.3.6) (2.1.0)\n",
      "Requirement already satisfied: attrs>=17.3.0 in /workspaces/rl-baseline/.venv/lib/python3.10/site-packages (from aiohttp==3.8.2->alpaca-trade-api<4,>=3->finrl==0.3.6) (23.1.0)\n",
      "Requirement already satisfied: charset-normalizer<3.0,>=2.0 in /workspaces/rl-baseline/.venv/lib/python3.10/site-packages (from aiohttp==3.8.2->alpaca-trade-api<4,>=3->finrl==0.3.6) (2.1.1)\n",
      "Requirement already satisfied: multidict<6.0,>=4.5 in /workspaces/rl-baseline/.venv/lib/python3.10/site-packages (from aiohttp==3.8.2->alpaca-trade-api<4,>=3->finrl==0.3.6) (5.2.0)\n",
      "Requirement already satisfied: async-timeout<5.0,>=4.0.0a3 in /workspaces/rl-baseline/.venv/lib/python3.10/site-packages (from aiohttp==3.8.2->alpaca-trade-api<4,>=3->finrl==0.3.6) (4.0.3)\n",
      "Requirement already satisfied: yarl<2.0,>=1.0 in /workspaces/rl-baseline/.venv/lib/python3.10/site-packages (from aiohttp==3.8.2->alpaca-trade-api<4,>=3->finrl==0.3.6) (1.9.2)\n",
      "Requirement already satisfied: frozenlist>=1.1.1 in /workspaces/rl-baseline/.venv/lib/python3.10/site-packages (from aiohttp==3.8.2->alpaca-trade-api<4,>=3->finrl==0.3.6) (1.4.0)\n",
      "Requirement already satisfied: aiosignal>=1.1.2 in /workspaces/rl-baseline/.venv/lib/python3.10/site-packages (from aiohttp==3.8.2->alpaca-trade-api<4,>=3->finrl==0.3.6) (1.3.1)\n",
      "Requirement already satisfied: packaging in /workspaces/rl-baseline/.venv/lib/python3.10/site-packages (from deprecation==2.1.0->alpaca-trade-api<4,>=3->finrl==0.3.6) (23.1)\n",
      "Requirement already satisfied: setuptools>=60.9.0 in /workspaces/rl-baseline/.venv/lib/python3.10/site-packages (from ccxt<4,>=3->finrl==0.3.6) (64.0.2)\n",
      "Requirement already satisfied: certifi>=2018.1.18 in /workspaces/rl-baseline/.venv/lib/python3.10/site-packages (from ccxt<4,>=3->finrl==0.3.6) (2023.7.22)\n",
      "Requirement already satisfied: cryptography>=2.6.1 in /workspaces/rl-baseline/.venv/lib/python3.10/site-packages (from ccxt<4,>=3->finrl==0.3.6) (41.0.4)\n",
      "Requirement already satisfied: aiodns>=1.1.1 in /workspaces/rl-baseline/.venv/lib/python3.10/site-packages (from ccxt<4,>=3->finrl==0.3.6) (3.0.0)\n",
      "Requirement already satisfied: pyluach in /workspaces/rl-baseline/.venv/lib/python3.10/site-packages (from exchange-calendars<5,>=4->finrl==0.3.6) (2.2.0)\n",
      "Requirement already satisfied: python-dateutil in /workspaces/rl-baseline/.venv/lib/python3.10/site-packages (from exchange-calendars<5,>=4->finrl==0.3.6) (2.8.2)\n",
      "Requirement already satisfied: toolz in /workspaces/rl-baseline/.venv/lib/python3.10/site-packages (from exchange-calendars<5,>=4->finrl==0.3.6) (0.12.0)\n",
      "Requirement already satisfied: tzdata in /workspaces/rl-baseline/.venv/lib/python3.10/site-packages (from exchange-calendars<5,>=4->finrl==0.3.6) (2023.3)\n",
      "Requirement already satisfied: korean-lunar-calendar in /workspaces/rl-baseline/.venv/lib/python3.10/site-packages (from exchange-calendars<5,>=4->finrl==0.3.6) (0.3.1)\n",
      "Requirement already satisfied: six in /workspaces/rl-baseline/.venv/lib/python3.10/site-packages (from jqdatasdk<2,>=1->finrl==0.3.6) (1.16.0)\n",
      "Requirement already satisfied: SQLAlchemy>=1.2.8 in /workspaces/rl-baseline/.venv/lib/python3.10/site-packages (from jqdatasdk<2,>=1->finrl==0.3.6) (1.4.50)\n",
      "Requirement already satisfied: thriftpy2>=0.3.9 in /workspaces/rl-baseline/.venv/lib/python3.10/site-packages (from jqdatasdk<2,>=1->finrl==0.3.6) (0.4.17)\n",
      "Requirement already satisfied: pymysql>=0.7.6 in /workspaces/rl-baseline/.venv/lib/python3.10/site-packages (from jqdatasdk<2,>=1->finrl==0.3.6) (1.1.0)\n",
      "Requirement already satisfied: ipython>=3.2.3 in /workspaces/rl-baseline/.venv/lib/python3.10/site-packages (from pyfolio<0.10,>=0.9->finrl==0.3.6) (8.15.0)\n",
      "Requirement already satisfied: matplotlib>=1.4.0 in /workspaces/rl-baseline/.venv/lib/python3.10/site-packages (from pyfolio<0.10,>=0.9->finrl==0.3.6) (3.8.0)\n",
      "Requirement already satisfied: pytz>=2014.10 in /workspaces/rl-baseline/.venv/lib/python3.10/site-packages (from pyfolio<0.10,>=0.9->finrl==0.3.6) (2023.3.post1)\n",
      "Requirement already satisfied: scipy>=0.14.0 in /workspaces/rl-baseline/.venv/lib/python3.10/site-packages (from pyfolio<0.10,>=0.9->finrl==0.3.6) (1.11.2)\n",
      "Requirement already satisfied: seaborn>=0.7.1 in /workspaces/rl-baseline/.venv/lib/python3.10/site-packages (from pyfolio<0.10,>=0.9->finrl==0.3.6) (0.12.2)\n",
      "Requirement already satisfied: empyrical>=0.5.0 in /workspaces/rl-baseline/.venv/lib/python3.10/site-packages (from pyfolio<0.10,>=0.9->finrl==0.3.6) (0.5.5)\n",
      "Requirement already satisfied: cvxpy<2.0.0,>=1.1.19 in /workspaces/rl-baseline/.venv/lib/python3.10/site-packages (from pyportfolioopt<2,>=1->finrl==0.3.6) (1.4.1)\n",
      "Requirement already satisfied: click>=7.0 in /workspaces/rl-baseline/.venv/lib/python3.10/site-packages (from ray<3,>=2->ray[default,tune]<3,>=2->finrl==0.3.6) (8.1.7)\n",
      "Requirement already satisfied: filelock in /workspaces/rl-baseline/.venv/lib/python3.10/site-packages (from ray<3,>=2->ray[default,tune]<3,>=2->finrl==0.3.6) (3.12.4)\n",
      "Requirement already satisfied: jsonschema in /workspaces/rl-baseline/.venv/lib/python3.10/site-packages (from ray<3,>=2->ray[default,tune]<3,>=2->finrl==0.3.6) (4.19.2)\n",
      "Requirement already satisfied: protobuf!=3.19.5,>=3.15.3 in /workspaces/rl-baseline/.venv/lib/python3.10/site-packages (from ray<3,>=2->ray[default,tune]<3,>=2->finrl==0.3.6) (4.24.3)\n",
      "Requirement already satisfied: tensorboardX>=1.9 in /workspaces/rl-baseline/.venv/lib/python3.10/site-packages (from ray[default,tune]<3,>=2->finrl==0.3.6) (2.6.2.2)\n",
      "Requirement already satisfied: pyarrow>=6.0.1 in /workspaces/rl-baseline/.venv/lib/python3.10/site-packages (from ray[default,tune]<3,>=2->finrl==0.3.6) (12.0.1)\n",
      "Requirement already satisfied: fsspec in /workspaces/rl-baseline/.venv/lib/python3.10/site-packages (from ray[default,tune]<3,>=2->finrl==0.3.6) (2023.6.0)\n",
      "Requirement already satisfied: aiohttp-cors in /workspaces/rl-baseline/.venv/lib/python3.10/site-packages (from ray[default,tune]<3,>=2->finrl==0.3.6) (0.7.0)\n",
      "Requirement already satisfied: colorful in /workspaces/rl-baseline/.venv/lib/python3.10/site-packages (from ray[default,tune]<3,>=2->finrl==0.3.6) (0.5.5)\n",
      "Requirement already satisfied: py-spy>=0.2.0 in /workspaces/rl-baseline/.venv/lib/python3.10/site-packages (from ray[default,tune]<3,>=2->finrl==0.3.6) (0.3.14)\n",
      "Requirement already satisfied: gpustat>=1.0.0 in /workspaces/rl-baseline/.venv/lib/python3.10/site-packages (from ray[default,tune]<3,>=2->finrl==0.3.6) (1.1.1)\n",
      "Requirement already satisfied: opencensus in /workspaces/rl-baseline/.venv/lib/python3.10/site-packages (from ray[default,tune]<3,>=2->finrl==0.3.6) (0.11.3)\n",
      "Requirement already satisfied: pydantic<2 in /workspaces/rl-baseline/.venv/lib/python3.10/site-packages (from ray[default,tune]<3,>=2->finrl==0.3.6) (1.10.9)\n",
      "Requirement already satisfied: prometheus-client>=0.7.1 in /workspaces/rl-baseline/.venv/lib/python3.10/site-packages (from ray[default,tune]<3,>=2->finrl==0.3.6) (0.18.0)\n",
      "Requirement already satisfied: smart-open in /workspaces/rl-baseline/.venv/lib/python3.10/site-packages (from ray[default,tune]<3,>=2->finrl==0.3.6) (6.4.0)\n",
      "Requirement already satisfied: virtualenv<20.21.1,>=20.0.24 in /workspaces/rl-baseline/.venv/lib/python3.10/site-packages (from ray[default,tune]<3,>=2->finrl==0.3.6) (20.21.0)\n",
      "Requirement already satisfied: grpcio>=1.42.0 in /workspaces/rl-baseline/.venv/lib/python3.10/site-packages (from ray[default,tune]<3,>=2->finrl==0.3.6) (1.58.0)\n",
      "Requirement already satisfied: joblib>=1.1.1 in /workspaces/rl-baseline/.venv/lib/python3.10/site-packages (from scikit-learn<2,>=1->finrl==0.3.6) (1.3.2)\n",
      "Requirement already satisfied: threadpoolctl>=2.0.0 in /workspaces/rl-baseline/.venv/lib/python3.10/site-packages (from scikit-learn<2,>=1->finrl==0.3.6) (3.2.0)\n",
      "Requirement already satisfied: gymnasium<0.30,>=0.28.1 in /workspaces/rl-baseline/.venv/lib/python3.10/site-packages (from stable-baselines3>=2.0.0a5->stable-baselines3[extra]>=2.0.0a5->finrl==0.3.6) (0.28.1)\n",
      "Requirement already satisfied: torch>=1.13 in /workspaces/rl-baseline/.venv/lib/python3.10/site-packages (from stable-baselines3>=2.0.0a5->stable-baselines3[extra]>=2.0.0a5->finrl==0.3.6) (1.13.1)\n",
      "Requirement already satisfied: cloudpickle in /workspaces/rl-baseline/.venv/lib/python3.10/site-packages (from stable-baselines3>=2.0.0a5->stable-baselines3[extra]>=2.0.0a5->finrl==0.3.6) (2.2.1)\n",
      "Requirement already satisfied: opencv-python in /workspaces/rl-baseline/.venv/lib/python3.10/site-packages (from stable-baselines3[extra]>=2.0.0a5->finrl==0.3.6) (4.8.1.78)\n",
      "Requirement already satisfied: pygame in /workspaces/rl-baseline/.venv/lib/python3.10/site-packages (from stable-baselines3[extra]>=2.0.0a5->finrl==0.3.6) (2.1.0)\n",
      "Requirement already satisfied: tensorboard>=2.9.1 in /workspaces/rl-baseline/.venv/lib/python3.10/site-packages (from stable-baselines3[extra]>=2.0.0a5->finrl==0.3.6) (2.12.3)\n",
      "Requirement already satisfied: psutil in /workspaces/rl-baseline/.venv/lib/python3.10/site-packages (from stable-baselines3[extra]>=2.0.0a5->finrl==0.3.6) (5.9.5)\n",
      "Requirement already satisfied: tqdm in /workspaces/rl-baseline/.venv/lib/python3.10/site-packages (from stable-baselines3[extra]>=2.0.0a5->finrl==0.3.6) (4.66.1)\n",
      "Requirement already satisfied: rich in /workspaces/rl-baseline/.venv/lib/python3.10/site-packages (from stable-baselines3[extra]>=2.0.0a5->finrl==0.3.6) (13.5.3)\n",
      "Requirement already satisfied: shimmy~=1.1.0 in /workspaces/rl-baseline/.venv/lib/python3.10/site-packages (from shimmy[atari]~=1.1.0; extra == \"extra\"->stable-baselines3[extra]>=2.0.0a5->finrl==0.3.6) (1.1.0)\n",
      "Requirement already satisfied: pillow in /workspaces/rl-baseline/.venv/lib/python3.10/site-packages (from stable-baselines3[extra]>=2.0.0a5->finrl==0.3.6) (10.0.1)\n",
      "Requirement already satisfied: autorom~=0.6.1 in /workspaces/rl-baseline/.venv/lib/python3.10/site-packages (from autorom[accept-rom-license]~=0.6.1; extra == \"extra\"->stable-baselines3[extra]>=2.0.0a5->finrl==0.3.6) (0.6.1)\n",
      "Requirement already satisfied: psycopg2-binary in /workspaces/rl-baseline/.venv/lib/python3.10/site-packages (from wrds<4,>=3->finrl==0.3.6) (2.9.7)\n",
      "Requirement already satisfied: multitasking>=0.0.7 in /workspaces/rl-baseline/.venv/lib/python3.10/site-packages (from yfinance<0.3,>=0.2->finrl==0.3.6) (0.0.11)\n",
      "Requirement already satisfied: lxml>=4.9.1 in /workspaces/rl-baseline/.venv/lib/python3.10/site-packages (from yfinance<0.3,>=0.2->finrl==0.3.6) (4.9.3)\n",
      "Requirement already satisfied: appdirs>=1.4.4 in /workspaces/rl-baseline/.venv/lib/python3.10/site-packages (from yfinance<0.3,>=0.2->finrl==0.3.6) (1.4.4)\n",
      "Requirement already satisfied: frozendict>=2.3.4 in /workspaces/rl-baseline/.venv/lib/python3.10/site-packages (from yfinance<0.3,>=0.2->finrl==0.3.6) (2.3.8)\n",
      "Requirement already satisfied: beautifulsoup4>=4.11.1 in /workspaces/rl-baseline/.venv/lib/python3.10/site-packages (from yfinance<0.3,>=0.2->finrl==0.3.6) (4.12.2)\n",
      "Requirement already satisfied: html5lib>=1.1 in /workspaces/rl-baseline/.venv/lib/python3.10/site-packages (from yfinance<0.3,>=0.2->finrl==0.3.6) (1.1)\n",
      "Requirement already satisfied: gym in /workspaces/rl-baseline/.venv/lib/python3.10/site-packages (from elegantrl@ git+https://github.com/AI4Finance-Foundation/ElegantRL.git#egg=elegantrl->finrl==0.3.6) (0.26.2)\n",
      "Requirement already satisfied: pycares>=4.0.0 in /workspaces/rl-baseline/.venv/lib/python3.10/site-packages (from aiodns>=1.1.1->ccxt<4,>=3->finrl==0.3.6) (4.3.0)\n",
      "Requirement already satisfied: AutoROM.accept-rom-license in /workspaces/rl-baseline/.venv/lib/python3.10/site-packages (from autorom[accept-rom-license]~=0.6.1; extra == \"extra\"->stable-baselines3[extra]>=2.0.0a5->finrl==0.3.6) (0.6.1)\n",
      "Requirement already satisfied: soupsieve>1.2 in /workspaces/rl-baseline/.venv/lib/python3.10/site-packages (from beautifulsoup4>=4.11.1->yfinance<0.3,>=0.2->finrl==0.3.6) (2.5)\n",
      "Requirement already satisfied: cffi>=1.12 in /workspaces/rl-baseline/.venv/lib/python3.10/site-packages (from cryptography>=2.6.1->ccxt<4,>=3->finrl==0.3.6) (1.15.1)\n",
      "Requirement already satisfied: osqp>=0.6.2 in /workspaces/rl-baseline/.venv/lib/python3.10/site-packages (from cvxpy<2.0.0,>=1.1.19->pyportfolioopt<2,>=1->finrl==0.3.6) (0.6.3)\n",
      "Requirement already satisfied: ecos>=2 in /workspaces/rl-baseline/.venv/lib/python3.10/site-packages (from cvxpy<2.0.0,>=1.1.19->pyportfolioopt<2,>=1->finrl==0.3.6) (2.0.12)\n",
      "Requirement already satisfied: clarabel>=0.5.0 in /workspaces/rl-baseline/.venv/lib/python3.10/site-packages (from cvxpy<2.0.0,>=1.1.19->pyportfolioopt<2,>=1->finrl==0.3.6) (0.6.0)\n",
      "Requirement already satisfied: scs>=3.0 in /workspaces/rl-baseline/.venv/lib/python3.10/site-packages (from cvxpy<2.0.0,>=1.1.19->pyportfolioopt<2,>=1->finrl==0.3.6) (3.2.3)\n",
      "Requirement already satisfied: pybind11 in /workspaces/rl-baseline/.venv/lib/python3.10/site-packages (from cvxpy<2.0.0,>=1.1.19->pyportfolioopt<2,>=1->finrl==0.3.6) (2.11.1)\n",
      "Requirement already satisfied: pandas-datareader>=0.2 in /workspaces/rl-baseline/.venv/lib/python3.10/site-packages (from empyrical>=0.5.0->pyfolio<0.10,>=0.9->finrl==0.3.6) (0.10.0)\n",
      "Requirement already satisfied: nvidia-ml-py>=11.450.129 in /workspaces/rl-baseline/.venv/lib/python3.10/site-packages (from gpustat>=1.0.0->ray[default,tune]<3,>=2->finrl==0.3.6) (12.535.133)\n",
      "Requirement already satisfied: blessed>=1.17.1 in /workspaces/rl-baseline/.venv/lib/python3.10/site-packages (from gpustat>=1.0.0->ray[default,tune]<3,>=2->finrl==0.3.6) (1.20.0)\n",
      "Requirement already satisfied: jax-jumpy>=1.0.0 in /workspaces/rl-baseline/.venv/lib/python3.10/site-packages (from gymnasium<0.30,>=0.28.1->stable-baselines3>=2.0.0a5->stable-baselines3[extra]>=2.0.0a5->finrl==0.3.6) (1.0.0)\n",
      "Requirement already satisfied: typing-extensions>=4.3.0 in /workspaces/rl-baseline/.venv/lib/python3.10/site-packages (from gymnasium<0.30,>=0.28.1->stable-baselines3>=2.0.0a5->stable-baselines3[extra]>=2.0.0a5->finrl==0.3.6) (4.8.0)\n",
      "Requirement already satisfied: farama-notifications>=0.0.1 in /workspaces/rl-baseline/.venv/lib/python3.10/site-packages (from gymnasium<0.30,>=0.28.1->stable-baselines3>=2.0.0a5->stable-baselines3[extra]>=2.0.0a5->finrl==0.3.6) (0.0.4)\n",
      "Requirement already satisfied: webencodings in /workspaces/rl-baseline/.venv/lib/python3.10/site-packages (from html5lib>=1.1->yfinance<0.3,>=0.2->finrl==0.3.6) (0.5.1)\n",
      "Requirement already satisfied: backcall in /workspaces/rl-baseline/.venv/lib/python3.10/site-packages (from ipython>=3.2.3->pyfolio<0.10,>=0.9->finrl==0.3.6) (0.2.0)\n",
      "Requirement already satisfied: decorator in /workspaces/rl-baseline/.venv/lib/python3.10/site-packages (from ipython>=3.2.3->pyfolio<0.10,>=0.9->finrl==0.3.6) (5.1.1)\n",
      "Requirement already satisfied: jedi>=0.16 in /workspaces/rl-baseline/.venv/lib/python3.10/site-packages (from ipython>=3.2.3->pyfolio<0.10,>=0.9->finrl==0.3.6) (0.19.0)\n",
      "Requirement already satisfied: matplotlib-inline in /workspaces/rl-baseline/.venv/lib/python3.10/site-packages (from ipython>=3.2.3->pyfolio<0.10,>=0.9->finrl==0.3.6) (0.1.6)\n",
      "Requirement already satisfied: pickleshare in /workspaces/rl-baseline/.venv/lib/python3.10/site-packages (from ipython>=3.2.3->pyfolio<0.10,>=0.9->finrl==0.3.6) (0.7.5)\n",
      "Requirement already satisfied: prompt-toolkit!=3.0.37,<3.1.0,>=3.0.30 in /workspaces/rl-baseline/.venv/lib/python3.10/site-packages (from ipython>=3.2.3->pyfolio<0.10,>=0.9->finrl==0.3.6) (3.0.39)\n",
      "Requirement already satisfied: pygments>=2.4.0 in /workspaces/rl-baseline/.venv/lib/python3.10/site-packages (from ipython>=3.2.3->pyfolio<0.10,>=0.9->finrl==0.3.6) (2.16.1)\n",
      "Requirement already satisfied: stack-data in /workspaces/rl-baseline/.venv/lib/python3.10/site-packages (from ipython>=3.2.3->pyfolio<0.10,>=0.9->finrl==0.3.6) (0.6.2)\n",
      "Requirement already satisfied: traitlets>=5 in /workspaces/rl-baseline/.venv/lib/python3.10/site-packages (from ipython>=3.2.3->pyfolio<0.10,>=0.9->finrl==0.3.6) (5.10.0)\n",
      "Requirement already satisfied: exceptiongroup in /workspaces/rl-baseline/.venv/lib/python3.10/site-packages (from ipython>=3.2.3->pyfolio<0.10,>=0.9->finrl==0.3.6) (1.1.3)\n",
      "Requirement already satisfied: pexpect>4.3 in /workspaces/rl-baseline/.venv/lib/python3.10/site-packages (from ipython>=3.2.3->pyfolio<0.10,>=0.9->finrl==0.3.6) (4.8.0)\n",
      "Requirement already satisfied: contourpy>=1.0.1 in /workspaces/rl-baseline/.venv/lib/python3.10/site-packages (from matplotlib>=1.4.0->pyfolio<0.10,>=0.9->finrl==0.3.6) (1.1.1)\n",
      "Requirement already satisfied: cycler>=0.10 in /workspaces/rl-baseline/.venv/lib/python3.10/site-packages (from matplotlib>=1.4.0->pyfolio<0.10,>=0.9->finrl==0.3.6) (0.11.0)\n",
      "Requirement already satisfied: fonttools>=4.22.0 in /workspaces/rl-baseline/.venv/lib/python3.10/site-packages (from matplotlib>=1.4.0->pyfolio<0.10,>=0.9->finrl==0.3.6) (4.42.1)\n",
      "Requirement already satisfied: kiwisolver>=1.0.1 in /workspaces/rl-baseline/.venv/lib/python3.10/site-packages (from matplotlib>=1.4.0->pyfolio<0.10,>=0.9->finrl==0.3.6) (1.4.5)\n",
      "Requirement already satisfied: pyparsing>=2.3.1 in /workspaces/rl-baseline/.venv/lib/python3.10/site-packages (from matplotlib>=1.4.0->pyfolio<0.10,>=0.9->finrl==0.3.6) (3.1.1)\n",
      "Requirement already satisfied: idna<4,>=2.5 in /workspaces/rl-baseline/.venv/lib/python3.10/site-packages (from requests<3,>2->alpaca-trade-api<4,>=3->finrl==0.3.6) (3.4)\n",
      "Requirement already satisfied: ale-py~=0.8.1 in /workspaces/rl-baseline/.venv/lib/python3.10/site-packages (from shimmy[atari]~=1.1.0; extra == \"extra\"->stable-baselines3[extra]>=2.0.0a5->finrl==0.3.6) (0.8.1)\n",
      "Requirement already satisfied: greenlet!=0.4.17 in /workspaces/rl-baseline/.venv/lib/python3.10/site-packages (from SQLAlchemy>=1.2.8->jqdatasdk<2,>=1->finrl==0.3.6) (2.0.2)\n",
      "Requirement already satisfied: absl-py>=0.4 in /workspaces/rl-baseline/.venv/lib/python3.10/site-packages (from tensorboard>=2.9.1->stable-baselines3[extra]>=2.0.0a5->finrl==0.3.6) (2.0.0)\n",
      "Requirement already satisfied: google-auth<3,>=1.6.3 in /workspaces/rl-baseline/.venv/lib/python3.10/site-packages (from tensorboard>=2.9.1->stable-baselines3[extra]>=2.0.0a5->finrl==0.3.6) (2.23.0)\n",
      "Requirement already satisfied: google-auth-oauthlib<1.1,>=0.5 in /workspaces/rl-baseline/.venv/lib/python3.10/site-packages (from tensorboard>=2.9.1->stable-baselines3[extra]>=2.0.0a5->finrl==0.3.6) (1.0.0)\n",
      "Requirement already satisfied: markdown>=2.6.8 in /workspaces/rl-baseline/.venv/lib/python3.10/site-packages (from tensorboard>=2.9.1->stable-baselines3[extra]>=2.0.0a5->finrl==0.3.6) (3.4.4)\n",
      "Requirement already satisfied: tensorboard-data-server<0.8.0,>=0.7.0 in /workspaces/rl-baseline/.venv/lib/python3.10/site-packages (from tensorboard>=2.9.1->stable-baselines3[extra]>=2.0.0a5->finrl==0.3.6) (0.7.1)\n",
      "Requirement already satisfied: werkzeug>=1.0.1 in /workspaces/rl-baseline/.venv/lib/python3.10/site-packages (from tensorboard>=2.9.1->stable-baselines3[extra]>=2.0.0a5->finrl==0.3.6) (2.3.7)\n",
      "Requirement already satisfied: wheel>=0.26 in /workspaces/rl-baseline/.venv/lib/python3.10/site-packages (from tensorboard>=2.9.1->stable-baselines3[extra]>=2.0.0a5->finrl==0.3.6) (0.41.2)\n",
      "Requirement already satisfied: ply<4.0,>=3.4 in /workspaces/rl-baseline/.venv/lib/python3.10/site-packages (from thriftpy2>=0.3.9->jqdatasdk<2,>=1->finrl==0.3.6) (3.11)\n",
      "Requirement already satisfied: nvidia-cuda-runtime-cu11==11.7.99 in /workspaces/rl-baseline/.venv/lib/python3.10/site-packages (from torch>=1.13->stable-baselines3>=2.0.0a5->stable-baselines3[extra]>=2.0.0a5->finrl==0.3.6) (11.7.99)\n",
      "Requirement already satisfied: nvidia-cudnn-cu11==8.5.0.96 in /workspaces/rl-baseline/.venv/lib/python3.10/site-packages (from torch>=1.13->stable-baselines3>=2.0.0a5->stable-baselines3[extra]>=2.0.0a5->finrl==0.3.6) (8.5.0.96)\n",
      "Requirement already satisfied: nvidia-cublas-cu11==11.10.3.66 in /workspaces/rl-baseline/.venv/lib/python3.10/site-packages (from torch>=1.13->stable-baselines3>=2.0.0a5->stable-baselines3[extra]>=2.0.0a5->finrl==0.3.6) (11.10.3.66)\n",
      "Requirement already satisfied: nvidia-cuda-nvrtc-cu11==11.7.99 in /workspaces/rl-baseline/.venv/lib/python3.10/site-packages (from torch>=1.13->stable-baselines3>=2.0.0a5->stable-baselines3[extra]>=2.0.0a5->finrl==0.3.6) (11.7.99)\n",
      "Requirement already satisfied: distlib<1,>=0.3.6 in /workspaces/rl-baseline/.venv/lib/python3.10/site-packages (from virtualenv<20.21.1,>=20.0.24->ray[default,tune]<3,>=2->finrl==0.3.6) (0.3.7)\n",
      "Requirement already satisfied: platformdirs<4,>=2.4 in /workspaces/rl-baseline/.venv/lib/python3.10/site-packages (from virtualenv<20.21.1,>=20.0.24->ray[default,tune]<3,>=2->finrl==0.3.6) (3.10.0)\n",
      "Requirement already satisfied: gym-notices>=0.0.4 in /workspaces/rl-baseline/.venv/lib/python3.10/site-packages (from gym->elegantrl@ git+https://github.com/AI4Finance-Foundation/ElegantRL.git#egg=elegantrl->finrl==0.3.6) (0.0.8)\n",
      "Requirement already satisfied: box2d-py==2.3.5 in /workspaces/rl-baseline/.venv/lib/python3.10/site-packages (from gym[box2d]->elegantrl@ git+https://github.com/AI4Finance-Foundation/ElegantRL.git#egg=elegantrl->finrl==0.3.6) (2.3.5)\n",
      "Requirement already satisfied: swig==4.* in /workspaces/rl-baseline/.venv/lib/python3.10/site-packages (from gym[box2d]->elegantrl@ git+https://github.com/AI4Finance-Foundation/ElegantRL.git#egg=elegantrl->finrl==0.3.6) (4.1.1)\n",
      "Requirement already satisfied: jsonschema-specifications>=2023.03.6 in /workspaces/rl-baseline/.venv/lib/python3.10/site-packages (from jsonschema->ray<3,>=2->ray[default,tune]<3,>=2->finrl==0.3.6) (2023.7.1)\n",
      "Requirement already satisfied: referencing>=0.28.4 in /workspaces/rl-baseline/.venv/lib/python3.10/site-packages (from jsonschema->ray<3,>=2->ray[default,tune]<3,>=2->finrl==0.3.6) (0.30.2)\n",
      "Requirement already satisfied: rpds-py>=0.7.1 in /workspaces/rl-baseline/.venv/lib/python3.10/site-packages (from jsonschema->ray<3,>=2->ray[default,tune]<3,>=2->finrl==0.3.6) (0.12.0)\n",
      "Requirement already satisfied: opencensus-context>=0.1.3 in /workspaces/rl-baseline/.venv/lib/python3.10/site-packages (from opencensus->ray[default,tune]<3,>=2->finrl==0.3.6) (0.1.3)\n",
      "Requirement already satisfied: google-api-core<3.0.0,>=1.0.0 in /workspaces/rl-baseline/.venv/lib/python3.10/site-packages (from opencensus->ray[default,tune]<3,>=2->finrl==0.3.6) (2.11.1)\n",
      "Requirement already satisfied: markdown-it-py>=2.2.0 in /workspaces/rl-baseline/.venv/lib/python3.10/site-packages (from rich->stable-baselines3[extra]>=2.0.0a5->finrl==0.3.6) (3.0.0)\n",
      "Requirement already satisfied: importlib-resources in /workspaces/rl-baseline/.venv/lib/python3.10/site-packages (from ale-py~=0.8.1->shimmy[atari]~=1.1.0; extra == \"extra\"->stable-baselines3[extra]>=2.0.0a5->finrl==0.3.6) (6.1.0)\n",
      "Requirement already satisfied: wcwidth>=0.1.4 in /workspaces/rl-baseline/.venv/lib/python3.10/site-packages (from blessed>=1.17.1->gpustat>=1.0.0->ray[default,tune]<3,>=2->finrl==0.3.6) (0.2.6)\n",
      "Requirement already satisfied: pycparser in /workspaces/rl-baseline/.venv/lib/python3.10/site-packages (from cffi>=1.12->cryptography>=2.6.1->ccxt<4,>=3->finrl==0.3.6) (2.21)\n",
      "Requirement already satisfied: googleapis-common-protos<2.0.dev0,>=1.56.2 in /workspaces/rl-baseline/.venv/lib/python3.10/site-packages (from google-api-core<3.0.0,>=1.0.0->opencensus->ray[default,tune]<3,>=2->finrl==0.3.6) (1.60.0)\n",
      "Requirement already satisfied: cachetools<6.0,>=2.0.0 in /workspaces/rl-baseline/.venv/lib/python3.10/site-packages (from google-auth<3,>=1.6.3->tensorboard>=2.9.1->stable-baselines3[extra]>=2.0.0a5->finrl==0.3.6) (5.3.1)\n",
      "Requirement already satisfied: pyasn1-modules>=0.2.1 in /workspaces/rl-baseline/.venv/lib/python3.10/site-packages (from google-auth<3,>=1.6.3->tensorboard>=2.9.1->stable-baselines3[extra]>=2.0.0a5->finrl==0.3.6) (0.3.0)\n",
      "Requirement already satisfied: rsa<5,>=3.1.4 in /workspaces/rl-baseline/.venv/lib/python3.10/site-packages (from google-auth<3,>=1.6.3->tensorboard>=2.9.1->stable-baselines3[extra]>=2.0.0a5->finrl==0.3.6) (4.9)\n",
      "Requirement already satisfied: requests-oauthlib>=0.7.0 in /workspaces/rl-baseline/.venv/lib/python3.10/site-packages (from google-auth-oauthlib<1.1,>=0.5->tensorboard>=2.9.1->stable-baselines3[extra]>=2.0.0a5->finrl==0.3.6) (1.3.1)\n",
      "Requirement already satisfied: parso<0.9.0,>=0.8.3 in /workspaces/rl-baseline/.venv/lib/python3.10/site-packages (from jedi>=0.16->ipython>=3.2.3->pyfolio<0.10,>=0.9->finrl==0.3.6) (0.8.3)\n",
      "Requirement already satisfied: mdurl~=0.1 in /workspaces/rl-baseline/.venv/lib/python3.10/site-packages (from markdown-it-py>=2.2.0->rich->stable-baselines3[extra]>=2.0.0a5->finrl==0.3.6) (0.1.2)\n",
      "Requirement already satisfied: qdldl in /workspaces/rl-baseline/.venv/lib/python3.10/site-packages (from osqp>=0.6.2->cvxpy<2.0.0,>=1.1.19->pyportfolioopt<2,>=1->finrl==0.3.6) (0.1.7.post0)\n",
      "Requirement already satisfied: ptyprocess>=0.5 in /workspaces/rl-baseline/.venv/lib/python3.10/site-packages (from pexpect>4.3->ipython>=3.2.3->pyfolio<0.10,>=0.9->finrl==0.3.6) (0.7.0)\n",
      "Requirement already satisfied: MarkupSafe>=2.1.1 in /workspaces/rl-baseline/.venv/lib/python3.10/site-packages (from werkzeug>=1.0.1->tensorboard>=2.9.1->stable-baselines3[extra]>=2.0.0a5->finrl==0.3.6) (2.1.3)\n",
      "Requirement already satisfied: executing>=1.2.0 in /workspaces/rl-baseline/.venv/lib/python3.10/site-packages (from stack-data->ipython>=3.2.3->pyfolio<0.10,>=0.9->finrl==0.3.6) (1.2.0)\n",
      "Requirement already satisfied: asttokens>=2.1.0 in /workspaces/rl-baseline/.venv/lib/python3.10/site-packages (from stack-data->ipython>=3.2.3->pyfolio<0.10,>=0.9->finrl==0.3.6) (2.4.0)\n",
      "Requirement already satisfied: pure-eval in /workspaces/rl-baseline/.venv/lib/python3.10/site-packages (from stack-data->ipython>=3.2.3->pyfolio<0.10,>=0.9->finrl==0.3.6) (0.2.2)\n",
      "Requirement already satisfied: pyasn1<0.6.0,>=0.4.6 in /workspaces/rl-baseline/.venv/lib/python3.10/site-packages (from pyasn1-modules>=0.2.1->google-auth<3,>=1.6.3->tensorboard>=2.9.1->stable-baselines3[extra]>=2.0.0a5->finrl==0.3.6) (0.5.0)\n",
      "Requirement already satisfied: oauthlib>=3.0.0 in /workspaces/rl-baseline/.venv/lib/python3.10/site-packages (from requests-oauthlib>=0.7.0->google-auth-oauthlib<1.1,>=0.5->tensorboard>=2.9.1->stable-baselines3[extra]>=2.0.0a5->finrl==0.3.6) (3.2.2)\n"
     ]
    }
   ],
   "source": [
    "## install finrl library\n",
    "!pip install wrds\n",
    "!pip install swig\n",
    "!pip install git+https://github.com/AI4Finance-Foundation/FinRL.git"
   ]
  },
  {
   "cell_type": "markdown",
   "metadata": {
    "id": "osBHhVysOEzi"
   },
   "source": [
    "\n",
    "<a id='1.2'></a>\n",
    "## 2.2. A list of Python packages \n",
    "* Yahoo Finance API\n",
    "* pandas\n",
    "* numpy\n",
    "* matplotlib\n",
    "* stockstats\n",
    "* OpenAI gym\n",
    "* stable-baselines\n",
    "* tensorflow\n",
    "* pyfolio"
   ]
  },
  {
   "cell_type": "markdown",
   "metadata": {
    "id": "nGv01K8Sh1hn"
   },
   "source": [
    "<a id='1.3'></a>\n",
    "## 2.3. Import Packages"
   ]
  },
  {
   "cell_type": "code",
   "execution_count": 2,
   "metadata": {
    "id": "lPqeTTwoh1hn"
   },
   "outputs": [
    {
     "name": "stderr",
     "output_type": "stream",
     "text": [
      "/workspaces/rl-baseline/.venv/lib/python3.10/site-packages/pyfolio/pos.py:26: UserWarning: Module \"zipline.assets\" not found; multipliers will not be applied to position notionals.\n",
      "  warnings.warn(\n"
     ]
    }
   ],
   "source": [
    "import pandas as pd\n",
    "import numpy as np\n",
    "import matplotlib\n",
    "import matplotlib.pyplot as plt\n",
    "# matplotlib.use('Agg')\n",
    "import datetime\n",
    "\n",
    "%matplotlib inline\n",
    "from finrl.meta.preprocessor.yahoodownloader import YahooDownloader\n",
    "from finrl.meta.preprocessor.preprocessors import FeatureEngineer, data_split\n",
    "from finrl.meta.env_stock_trading.env_stocktrading import StockTradingEnv\n",
    "from finrl.agents.stablebaselines3.models import DRLAgent\n",
    "from stable_baselines3.common.logger import configure\n",
    "from finrl.meta.data_processor import DataProcessor\n",
    "\n",
    "from finrl.plot import backtest_stats, backtest_plot, get_daily_return, get_baseline\n",
    "from pprint import pprint\n",
    "\n",
    "import sys\n",
    "sys.path.append(\"../FinRL\")\n",
    "\n",
    "import itertools"
   ]
  },
  {
   "cell_type": "markdown",
   "metadata": {
    "id": "T2owTj985RW4"
   },
   "source": [
    "<a id='1.4'></a>\n",
    "## 2.4. Create Folders"
   ]
  },
  {
   "cell_type": "code",
   "execution_count": 3,
   "metadata": {
    "id": "RtUc_ofKmpdy"
   },
   "outputs": [],
   "source": [
    "from finrl import config\n",
    "from finrl import config_tickers\n",
    "import os\n",
    "from finrl.main import check_and_make_directories\n",
    "from finrl.config import (\n",
    "    DATA_SAVE_DIR,\n",
    "    TRAINED_MODEL_DIR,\n",
    "    TENSORBOARD_LOG_DIR,\n",
    "    RESULTS_DIR,\n",
    "    INDICATORS,\n",
    "    TRAIN_START_DATE,\n",
    "    TRAIN_END_DATE,\n",
    "    TEST_START_DATE,\n",
    "    TEST_END_DATE,\n",
    "    TRADE_START_DATE,\n",
    "    TRADE_END_DATE,\n",
    ")\n",
    "check_and_make_directories([DATA_SAVE_DIR, TRAINED_MODEL_DIR, TENSORBOARD_LOG_DIR, RESULTS_DIR])\n",
    "\n"
   ]
  },
  {
   "cell_type": "markdown",
   "metadata": {
    "id": "A289rQWMh1hq"
   },
   "source": [
    "<a id='2'></a>\n",
    "# Part 3. Download Data\n",
    "Yahoo Finance provides stock data, financial news, financial reports, etc. Yahoo Finance is free.\n",
    "* FinRL uses a class **YahooDownloader** in FinRL-Meta to fetch data via Yahoo Finance API\n",
    "* Call Limit: Using the Public API (without authentication), you are limited to 2,000 requests per hour per IP (or up to a total of 48,000 requests a day)."
   ]
  },
  {
   "cell_type": "markdown",
   "metadata": {
    "id": "NPeQ7iS-LoMm"
   },
   "source": [
    "\n",
    "\n",
    "-----\n",
    "class YahooDownloader:\n",
    "    Retrieving daily stock data from\n",
    "    Yahoo Finance API\n",
    "\n",
    "    Attributes\n",
    "    ----------\n",
    "        start_date : str\n",
    "            start date of the data (modified from config.py)\n",
    "        end_date : str\n",
    "            end date of the data (modified from config.py)\n",
    "        ticker_list : list\n",
    "            a list of stock tickers (modified from config.py)\n",
    "\n",
    "    Methods\n",
    "    -------\n",
    "    fetch_data()\n"
   ]
  },
  {
   "cell_type": "code",
   "execution_count": 4,
   "metadata": {
    "colab": {
     "base_uri": "https://localhost:8080/",
     "height": 35
    },
    "id": "h3XJnvrbLp-C",
    "outputId": "3c4dda81-f617-4e9b-f88c-edb502d1500c"
   },
   "outputs": [
    {
     "name": "stdout",
     "output_type": "stream",
     "text": [
      "2014-01-06\n",
      "2020-07-31\n"
     ]
    }
   ],
   "source": [
    "# from config.py, TRAIN_START_DATE is a string\n",
    "print(TRAIN_START_DATE)\n",
    "# from config.py, TRAIN_END_DATE is a string\n",
    "print(TRAIN_END_DATE)"
   ]
  },
  {
   "cell_type": "code",
   "execution_count": 5,
   "metadata": {
    "id": "FUnY8WEfLq3C"
   },
   "outputs": [],
   "source": [
    "TRAIN_START_DATE = '2003-01-01'\n",
    "TRAIN_END_DATE = '2020-07-01'\n",
    "TRADE_START_DATE = '2020-07-01'\n",
    "TRADE_END_DATE = '2021-10-31'\n"
   ]
  },
  {
   "cell_type": "code",
   "execution_count": 6,
   "metadata": {},
   "outputs": [
    {
     "name": "stdout",
     "output_type": "stream",
     "text": [
      "[*********************100%%**********************]  1 of 1 completed\n",
      "[*********************100%%**********************]  1 of 1 completed\n",
      "[*********************100%%**********************]  1 of 1 completed\n",
      "[*********************100%%**********************]  1 of 1 completed\n",
      "Shape of DataFrame:  (17079, 8)\n"
     ]
    }
   ],
   "source": [
    "df = YahooDownloader(start_date = TRAIN_START_DATE,\n",
    "                     end_date = TRADE_END_DATE,\n",
    "                     ticker_list = ['MSFT', 'TSLA', 'AMZN', 'NFLX']).fetch_data()"
   ]
  },
  {
   "cell_type": "code",
   "execution_count": 7,
   "metadata": {},
   "outputs": [
    {
     "name": "stdout",
     "output_type": "stream",
     "text": [
      "         date       open     high        low      close     volume   tic  day\n",
      "0  2003-01-02   0.959500   0.9840   0.927500   0.978500  129680000  AMZN    3\n",
      "1  2003-01-02  26.150000  26.8750  25.855000  16.686026   67025200  MSFT    3\n",
      "2  2003-01-02   0.846429   0.9000   0.810714   0.817857    8397200  NFLX    3\n",
      "3  2003-01-03   0.979500   1.0265   0.970500   1.026000  175140000  AMZN    4\n",
      "4  2003-01-03  26.795000  26.9000  26.440001  16.707771   55546800  MSFT    4\n"
     ]
    }
   ],
   "source": [
    "print(df.head(5))"
   ]
  },
  {
   "cell_type": "code",
   "execution_count": 8,
   "metadata": {},
   "outputs": [],
   "source": [
    "def subset_df(input_df, ticker):\n",
    "    sub_df = input_df[df['tic'] == ticker]\n",
    "    return sub_df"
   ]
  },
  {
   "cell_type": "code",
   "execution_count": 9,
   "metadata": {},
   "outputs": [
    {
     "name": "stdout",
     "output_type": "stream",
     "text": [
      "          date       open       high        low      close    volume   tic  \\\n",
      "1   2003-01-02  26.150000  26.875000  25.855000  16.686026  67025200  MSFT   \n",
      "4   2003-01-03  26.795000  26.900000  26.440001  16.707771  55546800  MSFT   \n",
      "7   2003-01-06  27.010000  27.615000  26.900000  17.012177  59456200  MSFT   \n",
      "10  2003-01-07  27.459999  28.004999  27.340000  17.332088  80517400  MSFT   \n",
      "13  2003-01-08  27.684999  27.775000  27.055000  16.847544  64566000  MSFT   \n",
      "\n",
      "    day  \n",
      "1     3  \n",
      "4     4  \n",
      "7     0  \n",
      "10    1  \n",
      "13    2  \n",
      "(4741, 8)\n"
     ]
    }
   ],
   "source": [
    "MSFT_df = subset_df(df, ticker = 'MSFT')\n",
    "print(MSFT_df.head(5))\n",
    "print(MSFT_df.shape)"
   ]
  },
  {
   "cell_type": "code",
   "execution_count": 10,
   "metadata": {},
   "outputs": [
    {
     "name": "stdout",
     "output_type": "stream",
     "text": [
      "            date      open      high       low     close     volume   tic  day\n",
      "5658  2010-06-29  1.266667  1.666667  1.169333  1.592667  281494500  TSLA    1\n",
      "5662  2010-06-30  1.719333  2.028000  1.553333  1.588667  257806500  TSLA    2\n",
      "5666  2010-07-01  1.666667  1.728000  1.351333  1.464000  123282000  TSLA    3\n",
      "5670  2010-07-02  1.533333  1.540000  1.247333  1.280000   77097000  TSLA    4\n",
      "5674  2010-07-06  1.333333  1.333333  1.055333  1.074000  103003500  TSLA    1\n",
      "(2856, 8)\n"
     ]
    }
   ],
   "source": [
    "TSLA_df = subset_df(df, ticker = 'TSLA')\n",
    "print(TSLA_df.head(5))\n",
    "print(TSLA_df.shape)"
   ]
  },
  {
   "cell_type": "code",
   "execution_count": 11,
   "metadata": {},
   "outputs": [
    {
     "name": "stdout",
     "output_type": "stream",
     "text": [
      "          date    open    high     low   close     volume   tic  day\n",
      "0   2003-01-02  0.9595  0.9840  0.9275  0.9785  129680000  AMZN    3\n",
      "3   2003-01-03  0.9795  1.0265  0.9705  1.0260  175140000  AMZN    4\n",
      "6   2003-01-06  1.0200  1.0585  1.0150  1.0350  153962000  AMZN    0\n",
      "9   2003-01-07  1.0415  1.0875  1.0300  1.0775  191364000  AMZN    1\n",
      "12  2003-01-08  1.0720  1.0800  1.0410  1.0510  139630000  AMZN    2\n",
      "(4741, 8)\n"
     ]
    }
   ],
   "source": [
    "AMZN_df = subset_df(df, ticker = 'AMZN')\n",
    "print(AMZN_df.head(5))\n",
    "print(AMZN_df.shape)"
   ]
  },
  {
   "cell_type": "code",
   "execution_count": 12,
   "metadata": {},
   "outputs": [
    {
     "name": "stdout",
     "output_type": "stream",
     "text": [
      "          date      open      high       low     close   volume   tic  day\n",
      "2   2003-01-02  0.846429  0.900000  0.810714  0.817857  8397200  NFLX    3\n",
      "5   2003-01-03  0.850000  0.850000  0.771429  0.772857  3248000  NFLX    4\n",
      "8   2003-01-06  0.785714  0.800000  0.762143  0.792857  3003000  NFLX    0\n",
      "11  2003-01-07  0.771429  0.795714  0.771429  0.783571  1937600  NFLX    1\n",
      "14  2003-01-08  0.771429  0.857143  0.762143  0.815000  5356400  NFLX    2\n",
      "(4741, 8)\n"
     ]
    }
   ],
   "source": [
    "NFLX_df = subset_df(df, ticker = 'NFLX')\n",
    "print(NFLX_df.head(5))\n",
    "print(NFLX_df.shape)"
   ]
  },
  {
   "cell_type": "code",
   "execution_count": 13,
   "metadata": {},
   "outputs": [],
   "source": [
    "# 5+"
   ]
  },
  {
   "cell_type": "code",
   "execution_count": 14,
   "metadata": {
    "colab": {
     "base_uri": "https://localhost:8080/"
    },
    "id": "yCKm4om-s9kE",
    "outputId": "24dbccc1-190c-4912-b67a-9fe8fd9afbf2"
   },
   "outputs": [],
   "source": [
    "# df = YahooDownloader(start_date = TRAIN_START_DATE,\n",
    "#                      end_date = TRADE_END_DATE,\n",
    "#                      ticker_list = config_tickers.DOW_30_TICKER).fetch_data()"
   ]
  },
  {
   "cell_type": "code",
   "execution_count": 15,
   "metadata": {
    "colab": {
     "base_uri": "https://localhost:8080/"
    },
    "id": "JzqRRTOX6aFu",
    "outputId": "85539f72-49fe-4418-9a75-5fa715cbfac9"
   },
   "outputs": [],
   "source": [
    "# print(config_tickers.DOW_30_TICKER)"
   ]
  },
  {
   "cell_type": "code",
   "execution_count": 16,
   "metadata": {
    "colab": {
     "base_uri": "https://localhost:8080/"
    },
    "id": "CV3HrZHLh1hy",
    "outputId": "f1031e65-9b05-4fb4-9128-3b7babd894c5"
   },
   "outputs": [],
   "source": [
    "# df.shape"
   ]
  },
  {
   "cell_type": "code",
   "execution_count": 17,
   "metadata": {
    "colab": {
     "base_uri": "https://localhost:8080/",
     "height": 206
    },
    "id": "4hYkeaPiICHS",
    "outputId": "95d13d1e-3c8d-441e-835e-b9c7c121fd9f"
   },
   "outputs": [],
   "source": [
    "# df.sort_values(['date','tic'],ignore_index=True).head()"
   ]
  },
  {
   "cell_type": "markdown",
   "metadata": {
    "id": "uqC6c40Zh1iH"
   },
   "source": [
    "# Part 4: Preprocess Data\n",
    "We need to check for missing data and do feature engineering to convert the data point into a state.\n",
    "* **Adding technical indicators**. In practical trading, various information needs to be taken into account, such as historical prices, current holding shares, technical indicators, etc. Here, we demonstrate two trend-following technical indicators: MACD and RSI.\n",
    "* **Adding turbulence index**. Risk-aversion reflects whether an investor prefers to protect the capital. It also influences one's trading strategy when facing different market volatility level. To control the risk in a worst-case scenario, such as financial crisis of 2007–2008, FinRL employs the turbulence index that measures extreme fluctuation of asset price."
   ]
  },
  {
   "cell_type": "code",
   "execution_count": 18,
   "metadata": {
    "colab": {
     "base_uri": "https://localhost:8080/"
    },
    "id": "PmKP-1ii3RLS",
    "outputId": "9b9facc1-f877-4caa-b66b-a2ce0e023de8"
   },
   "outputs": [
    {
     "name": "stdout",
     "output_type": "stream",
     "text": [
      "Successfully added technical indicators\n",
      "[*********************100%%**********************]  1 of 1 completed\n",
      "Shape of DataFrame:  (4740, 8)\n",
      "Successfully added vix\n",
      "Successfully added turbulence index\n"
     ]
    }
   ],
   "source": [
    "MSFT_fe = FeatureEngineer(\n",
    "                    use_technical_indicator=True,\n",
    "                    tech_indicator_list = INDICATORS,\n",
    "                    use_vix=True,\n",
    "                    use_turbulence=True,\n",
    "                    user_defined_feature = False)\n",
    "\n",
    "MSFT_processed = MSFT_fe.preprocess_data(MSFT_df)"
   ]
  },
  {
   "cell_type": "code",
   "execution_count": 19,
   "metadata": {
    "id": "Kixon2tR3RLT"
   },
   "outputs": [],
   "source": [
    "list_ticker = MSFT_processed[\"tic\"].unique().tolist()\n",
    "list_date = list(pd.date_range(MSFT_processed['date'].min(), MSFT_processed['date'].max()).astype(str))\n",
    "combination = list(itertools.product(list_date,list_ticker))\n",
    "\n",
    "MSFT_processed_full = pd.DataFrame(combination,columns=[\"date\",\"tic\"]).merge(MSFT_processed ,on=[\"date\",\"tic\"],how=\"left\")\n",
    "MSFT_processed_full = MSFT_processed_full[MSFT_processed_full['date'].isin(MSFT_processed['date'])]\n",
    "MSFT_processed_full = MSFT_processed_full.sort_values(['date','tic'])\n",
    "\n",
    "MSFT_processed_full = MSFT_processed_full.fillna(0)"
   ]
  },
  {
   "cell_type": "code",
   "execution_count": 20,
   "metadata": {
    "colab": {
     "base_uri": "https://localhost:8080/",
     "height": 407
    },
    "id": "grvhGJJII3Xn",
    "outputId": "8e48188a-d58d-4d2c-dbed-fecacb74984e"
   },
   "outputs": [
    {
     "data": {
      "text/html": [
       "<div>\n",
       "<style scoped>\n",
       "    .dataframe tbody tr th:only-of-type {\n",
       "        vertical-align: middle;\n",
       "    }\n",
       "\n",
       "    .dataframe tbody tr th {\n",
       "        vertical-align: top;\n",
       "    }\n",
       "\n",
       "    .dataframe thead th {\n",
       "        text-align: right;\n",
       "    }\n",
       "</style>\n",
       "<table border=\"1\" class=\"dataframe\">\n",
       "  <thead>\n",
       "    <tr style=\"text-align: right;\">\n",
       "      <th></th>\n",
       "      <th>date</th>\n",
       "      <th>tic</th>\n",
       "      <th>open</th>\n",
       "      <th>high</th>\n",
       "      <th>low</th>\n",
       "      <th>close</th>\n",
       "      <th>volume</th>\n",
       "      <th>day</th>\n",
       "      <th>macd</th>\n",
       "      <th>boll_ub</th>\n",
       "      <th>boll_lb</th>\n",
       "      <th>rsi_30</th>\n",
       "      <th>cci_30</th>\n",
       "      <th>dx_30</th>\n",
       "      <th>close_30_sma</th>\n",
       "      <th>close_60_sma</th>\n",
       "      <th>vix</th>\n",
       "      <th>turbulence</th>\n",
       "    </tr>\n",
       "  </thead>\n",
       "  <tbody>\n",
       "    <tr>\n",
       "      <th>0</th>\n",
       "      <td>2003-01-02</td>\n",
       "      <td>MSFT</td>\n",
       "      <td>26.150000</td>\n",
       "      <td>26.875000</td>\n",
       "      <td>25.855000</td>\n",
       "      <td>16.686026</td>\n",
       "      <td>67025200.0</td>\n",
       "      <td>3.0</td>\n",
       "      <td>0.000000</td>\n",
       "      <td>16.727651</td>\n",
       "      <td>16.666145</td>\n",
       "      <td>100.000000</td>\n",
       "      <td>66.666667</td>\n",
       "      <td>100.000000</td>\n",
       "      <td>16.686026</td>\n",
       "      <td>16.686026</td>\n",
       "      <td>25.389999</td>\n",
       "      <td>0.0</td>\n",
       "    </tr>\n",
       "    <tr>\n",
       "      <th>1</th>\n",
       "      <td>2003-01-03</td>\n",
       "      <td>MSFT</td>\n",
       "      <td>26.795000</td>\n",
       "      <td>26.900000</td>\n",
       "      <td>26.440001</td>\n",
       "      <td>16.707771</td>\n",
       "      <td>55546800.0</td>\n",
       "      <td>4.0</td>\n",
       "      <td>0.000488</td>\n",
       "      <td>16.727651</td>\n",
       "      <td>16.666145</td>\n",
       "      <td>100.000000</td>\n",
       "      <td>66.666667</td>\n",
       "      <td>100.000000</td>\n",
       "      <td>16.696898</td>\n",
       "      <td>16.696898</td>\n",
       "      <td>24.680000</td>\n",
       "      <td>0.0</td>\n",
       "    </tr>\n",
       "    <tr>\n",
       "      <th>2</th>\n",
       "      <td>2003-01-06</td>\n",
       "      <td>MSFT</td>\n",
       "      <td>27.010000</td>\n",
       "      <td>27.615000</td>\n",
       "      <td>26.900000</td>\n",
       "      <td>17.012177</td>\n",
       "      <td>59456200.0</td>\n",
       "      <td>0.0</td>\n",
       "      <td>0.010061</td>\n",
       "      <td>17.166692</td>\n",
       "      <td>16.437291</td>\n",
       "      <td>100.000000</td>\n",
       "      <td>100.000000</td>\n",
       "      <td>100.000000</td>\n",
       "      <td>16.801991</td>\n",
       "      <td>16.801991</td>\n",
       "      <td>24.910000</td>\n",
       "      <td>0.0</td>\n",
       "    </tr>\n",
       "    <tr>\n",
       "      <th>3</th>\n",
       "      <td>2003-01-07</td>\n",
       "      <td>MSFT</td>\n",
       "      <td>27.459999</td>\n",
       "      <td>28.004999</td>\n",
       "      <td>27.340000</td>\n",
       "      <td>17.332088</td>\n",
       "      <td>80517400.0</td>\n",
       "      <td>1.0</td>\n",
       "      <td>0.025719</td>\n",
       "      <td>17.542524</td>\n",
       "      <td>16.326507</td>\n",
       "      <td>100.000000</td>\n",
       "      <td>99.009805</td>\n",
       "      <td>100.000000</td>\n",
       "      <td>16.934515</td>\n",
       "      <td>16.934515</td>\n",
       "      <td>25.129999</td>\n",
       "      <td>0.0</td>\n",
       "    </tr>\n",
       "    <tr>\n",
       "      <th>4</th>\n",
       "      <td>2003-01-08</td>\n",
       "      <td>MSFT</td>\n",
       "      <td>27.684999</td>\n",
       "      <td>27.775000</td>\n",
       "      <td>27.055000</td>\n",
       "      <td>16.847544</td>\n",
       "      <td>64566000.0</td>\n",
       "      <td>2.0</td>\n",
       "      <td>0.014405</td>\n",
       "      <td>17.449387</td>\n",
       "      <td>16.384855</td>\n",
       "      <td>55.865640</td>\n",
       "      <td>37.915833</td>\n",
       "      <td>56.019308</td>\n",
       "      <td>16.917121</td>\n",
       "      <td>16.917121</td>\n",
       "      <td>25.530001</td>\n",
       "      <td>0.0</td>\n",
       "    </tr>\n",
       "    <tr>\n",
       "      <th>5</th>\n",
       "      <td>2003-01-09</td>\n",
       "      <td>MSFT</td>\n",
       "      <td>27.360001</td>\n",
       "      <td>27.959999</td>\n",
       "      <td>27.264999</td>\n",
       "      <td>17.335205</td>\n",
       "      <td>61808000.0</td>\n",
       "      <td>3.0</td>\n",
       "      <td>0.028185</td>\n",
       "      <td>17.572613</td>\n",
       "      <td>16.400990</td>\n",
       "      <td>69.760609</td>\n",
       "      <td>78.359119</td>\n",
       "      <td>61.841807</td>\n",
       "      <td>16.986802</td>\n",
       "      <td>16.986802</td>\n",
       "      <td>24.250000</td>\n",
       "      <td>0.0</td>\n",
       "    </tr>\n",
       "    <tr>\n",
       "      <th>6</th>\n",
       "      <td>2003-01-10</td>\n",
       "      <td>MSFT</td>\n",
       "      <td>27.549999</td>\n",
       "      <td>28.150000</td>\n",
       "      <td>27.450001</td>\n",
       "      <td>17.369371</td>\n",
       "      <td>67730200.0</td>\n",
       "      <td>4.0</td>\n",
       "      <td>0.038085</td>\n",
       "      <td>17.649413</td>\n",
       "      <td>16.433496</td>\n",
       "      <td>70.435228</td>\n",
       "      <td>90.017376</td>\n",
       "      <td>66.684060</td>\n",
       "      <td>17.041455</td>\n",
       "      <td>17.041455</td>\n",
       "      <td>24.320000</td>\n",
       "      <td>0.0</td>\n",
       "    </tr>\n",
       "    <tr>\n",
       "      <th>7</th>\n",
       "      <td>2003-01-13</td>\n",
       "      <td>MSFT</td>\n",
       "      <td>28.260000</td>\n",
       "      <td>28.375000</td>\n",
       "      <td>27.885000</td>\n",
       "      <td>17.515358</td>\n",
       "      <td>60817800.0</td>\n",
       "      <td>0.0</td>\n",
       "      <td>0.051054</td>\n",
       "      <td>17.755752</td>\n",
       "      <td>16.445633</td>\n",
       "      <td>73.088942</td>\n",
       "      <td>111.324561</td>\n",
       "      <td>71.295181</td>\n",
       "      <td>17.100693</td>\n",
       "      <td>17.100693</td>\n",
       "      <td>24.900000</td>\n",
       "      <td>0.0</td>\n",
       "    </tr>\n",
       "    <tr>\n",
       "      <th>8</th>\n",
       "      <td>2003-01-14</td>\n",
       "      <td>MSFT</td>\n",
       "      <td>28.165001</td>\n",
       "      <td>28.500000</td>\n",
       "      <td>28.094999</td>\n",
       "      <td>17.695509</td>\n",
       "      <td>54206400.0</td>\n",
       "      <td>1.0</td>\n",
       "      <td>0.068196</td>\n",
       "      <td>17.896655</td>\n",
       "      <td>16.436911</td>\n",
       "      <td>75.855528</td>\n",
       "      <td>114.054869</td>\n",
       "      <td>73.475371</td>\n",
       "      <td>17.166783</td>\n",
       "      <td>17.166783</td>\n",
       "      <td>24.570000</td>\n",
       "      <td>0.0</td>\n",
       "    </tr>\n",
       "    <tr>\n",
       "      <th>9</th>\n",
       "      <td>2003-01-15</td>\n",
       "      <td>MSFT</td>\n",
       "      <td>28.500000</td>\n",
       "      <td>28.660000</td>\n",
       "      <td>28.094999</td>\n",
       "      <td>17.478077</td>\n",
       "      <td>59622600.0</td>\n",
       "      <td>2.0</td>\n",
       "      <td>0.068164</td>\n",
       "      <td>17.913653</td>\n",
       "      <td>16.482172</td>\n",
       "      <td>67.226461</td>\n",
       "      <td>96.734103</td>\n",
       "      <td>75.972398</td>\n",
       "      <td>17.197913</td>\n",
       "      <td>17.197913</td>\n",
       "      <td>25.510000</td>\n",
       "      <td>0.0</td>\n",
       "    </tr>\n",
       "  </tbody>\n",
       "</table>\n",
       "</div>"
      ],
      "text/plain": [
       "         date   tic       open       high        low      close      volume  \\\n",
       "0  2003-01-02  MSFT  26.150000  26.875000  25.855000  16.686026  67025200.0   \n",
       "1  2003-01-03  MSFT  26.795000  26.900000  26.440001  16.707771  55546800.0   \n",
       "2  2003-01-06  MSFT  27.010000  27.615000  26.900000  17.012177  59456200.0   \n",
       "3  2003-01-07  MSFT  27.459999  28.004999  27.340000  17.332088  80517400.0   \n",
       "4  2003-01-08  MSFT  27.684999  27.775000  27.055000  16.847544  64566000.0   \n",
       "5  2003-01-09  MSFT  27.360001  27.959999  27.264999  17.335205  61808000.0   \n",
       "6  2003-01-10  MSFT  27.549999  28.150000  27.450001  17.369371  67730200.0   \n",
       "7  2003-01-13  MSFT  28.260000  28.375000  27.885000  17.515358  60817800.0   \n",
       "8  2003-01-14  MSFT  28.165001  28.500000  28.094999  17.695509  54206400.0   \n",
       "9  2003-01-15  MSFT  28.500000  28.660000  28.094999  17.478077  59622600.0   \n",
       "\n",
       "   day      macd    boll_ub    boll_lb      rsi_30      cci_30       dx_30  \\\n",
       "0  3.0  0.000000  16.727651  16.666145  100.000000   66.666667  100.000000   \n",
       "1  4.0  0.000488  16.727651  16.666145  100.000000   66.666667  100.000000   \n",
       "2  0.0  0.010061  17.166692  16.437291  100.000000  100.000000  100.000000   \n",
       "3  1.0  0.025719  17.542524  16.326507  100.000000   99.009805  100.000000   \n",
       "4  2.0  0.014405  17.449387  16.384855   55.865640   37.915833   56.019308   \n",
       "5  3.0  0.028185  17.572613  16.400990   69.760609   78.359119   61.841807   \n",
       "6  4.0  0.038085  17.649413  16.433496   70.435228   90.017376   66.684060   \n",
       "7  0.0  0.051054  17.755752  16.445633   73.088942  111.324561   71.295181   \n",
       "8  1.0  0.068196  17.896655  16.436911   75.855528  114.054869   73.475371   \n",
       "9  2.0  0.068164  17.913653  16.482172   67.226461   96.734103   75.972398   \n",
       "\n",
       "   close_30_sma  close_60_sma        vix  turbulence  \n",
       "0     16.686026     16.686026  25.389999         0.0  \n",
       "1     16.696898     16.696898  24.680000         0.0  \n",
       "2     16.801991     16.801991  24.910000         0.0  \n",
       "3     16.934515     16.934515  25.129999         0.0  \n",
       "4     16.917121     16.917121  25.530001         0.0  \n",
       "5     16.986802     16.986802  24.250000         0.0  \n",
       "6     17.041455     17.041455  24.320000         0.0  \n",
       "7     17.100693     17.100693  24.900000         0.0  \n",
       "8     17.166783     17.166783  24.570000         0.0  \n",
       "9     17.197913     17.197913  25.510000         0.0  "
      ]
     },
     "execution_count": 20,
     "metadata": {},
     "output_type": "execute_result"
    }
   ],
   "source": [
    "MSFT_processed_full.sort_values(['date','tic'],ignore_index=True).head(10)"
   ]
  },
  {
   "cell_type": "code",
   "execution_count": 21,
   "metadata": {},
   "outputs": [
    {
     "ename": "SyntaxError",
     "evalue": "invalid syntax (4281351646.py, line 1)",
     "output_type": "error",
     "traceback": [
      "\u001b[0;36m  Cell \u001b[0;32mIn[21], line 1\u001b[0;36m\u001b[0m\n\u001b[0;31m    5+\u001b[0m\n\u001b[0m      ^\u001b[0m\n\u001b[0;31mSyntaxError\u001b[0m\u001b[0;31m:\u001b[0m invalid syntax\n"
     ]
    }
   ],
   "source": [
    "# 5+"
   ]
  },
  {
   "cell_type": "markdown",
   "metadata": {
    "id": "-QsYaY0Dh1iw"
   },
   "source": [
    "<a id='4'></a>\n",
    "# Part 5. Build A Market Environment in OpenAI Gym-style\n",
    "The training process involves observing stock price change, taking an action and reward's calculation. By interacting with the market environment, the agent will eventually derive a trading strategy that may maximize (expected) rewards.\n",
    "\n",
    "Our market environment, based on OpenAI Gym, simulates stock markets with historical market data."
   ]
  },
  {
   "cell_type": "markdown",
   "metadata": {
    "id": "5TOhcryx44bb"
   },
   "source": [
    "## Data Split\n",
    "We split the data into training set and testing set as follows:\n",
    "\n",
    "Training data period: 2009-01-01 to 2020-07-01\n",
    "\n",
    "Trading data period: 2020-07-01 to 2021-10-31\n"
   ]
  },
  {
   "cell_type": "code",
   "execution_count": 22,
   "metadata": {
    "colab": {
     "base_uri": "https://localhost:8080/"
    },
    "id": "W0qaVGjLtgbI",
    "outputId": "ac9f2699-65c6-418f-cca4-f0f166973f65"
   },
   "outputs": [
    {
     "name": "stdout",
     "output_type": "stream",
     "text": [
      "4404\n",
      "336\n"
     ]
    }
   ],
   "source": [
    "MSFT_train = data_split(MSFT_processed_full, TRAIN_START_DATE,TRAIN_END_DATE)\n",
    "MSFT_trade = data_split(MSFT_processed_full, TRADE_START_DATE,TRADE_END_DATE)\n",
    "print(len(MSFT_train))\n",
    "print(len(MSFT_trade))"
   ]
  },
  {
   "cell_type": "code",
   "execution_count": 23,
   "metadata": {
    "colab": {
     "base_uri": "https://localhost:8080/",
     "height": 357
    },
    "id": "p52zNCOhTtLR",
    "outputId": "14568787-e92d-4d9b-dbce-9e11b3fb1390"
   },
   "outputs": [
    {
     "data": {
      "text/html": [
       "<div>\n",
       "<style scoped>\n",
       "    .dataframe tbody tr th:only-of-type {\n",
       "        vertical-align: middle;\n",
       "    }\n",
       "\n",
       "    .dataframe tbody tr th {\n",
       "        vertical-align: top;\n",
       "    }\n",
       "\n",
       "    .dataframe thead th {\n",
       "        text-align: right;\n",
       "    }\n",
       "</style>\n",
       "<table border=\"1\" class=\"dataframe\">\n",
       "  <thead>\n",
       "    <tr style=\"text-align: right;\">\n",
       "      <th></th>\n",
       "      <th>date</th>\n",
       "      <th>tic</th>\n",
       "      <th>open</th>\n",
       "      <th>high</th>\n",
       "      <th>low</th>\n",
       "      <th>close</th>\n",
       "      <th>volume</th>\n",
       "      <th>day</th>\n",
       "      <th>macd</th>\n",
       "      <th>boll_ub</th>\n",
       "      <th>boll_lb</th>\n",
       "      <th>rsi_30</th>\n",
       "      <th>cci_30</th>\n",
       "      <th>dx_30</th>\n",
       "      <th>close_30_sma</th>\n",
       "      <th>close_60_sma</th>\n",
       "      <th>vix</th>\n",
       "      <th>turbulence</th>\n",
       "    </tr>\n",
       "  </thead>\n",
       "  <tbody>\n",
       "    <tr>\n",
       "      <th>4399</th>\n",
       "      <td>2020-06-24</td>\n",
       "      <td>MSFT</td>\n",
       "      <td>201.600006</td>\n",
       "      <td>203.250000</td>\n",
       "      <td>196.559998</td>\n",
       "      <td>192.088364</td>\n",
       "      <td>36740600.0</td>\n",
       "      <td>2.0</td>\n",
       "      <td>4.715499</td>\n",
       "      <td>196.994507</td>\n",
       "      <td>172.484309</td>\n",
       "      <td>58.946928</td>\n",
       "      <td>146.456068</td>\n",
       "      <td>26.607861</td>\n",
       "      <td>182.238207</td>\n",
       "      <td>174.415711</td>\n",
       "      <td>33.840000</td>\n",
       "      <td>0.755765</td>\n",
       "    </tr>\n",
       "    <tr>\n",
       "      <th>4400</th>\n",
       "      <td>2020-06-25</td>\n",
       "      <td>MSFT</td>\n",
       "      <td>197.800003</td>\n",
       "      <td>200.610001</td>\n",
       "      <td>195.470001</td>\n",
       "      <td>194.515717</td>\n",
       "      <td>27803900.0</td>\n",
       "      <td>3.0</td>\n",
       "      <td>4.814099</td>\n",
       "      <td>197.952417</td>\n",
       "      <td>173.365340</td>\n",
       "      <td>60.055350</td>\n",
       "      <td>127.469897</td>\n",
       "      <td>22.709235</td>\n",
       "      <td>182.920745</td>\n",
       "      <td>175.112644</td>\n",
       "      <td>32.220001</td>\n",
       "      <td>0.178882</td>\n",
       "    </tr>\n",
       "    <tr>\n",
       "      <th>4401</th>\n",
       "      <td>2020-06-26</td>\n",
       "      <td>MSFT</td>\n",
       "      <td>199.729996</td>\n",
       "      <td>199.889999</td>\n",
       "      <td>194.880005</td>\n",
       "      <td>190.622253</td>\n",
       "      <td>54675800.0</td>\n",
       "      <td>4.0</td>\n",
       "      <td>4.525898</td>\n",
       "      <td>198.211058</td>\n",
       "      <td>174.376671</td>\n",
       "      <td>57.480191</td>\n",
       "      <td>97.130778</td>\n",
       "      <td>20.561175</td>\n",
       "      <td>183.448328</td>\n",
       "      <td>175.835054</td>\n",
       "      <td>34.730000</td>\n",
       "      <td>0.754050</td>\n",
       "    </tr>\n",
       "    <tr>\n",
       "      <th>4402</th>\n",
       "      <td>2020-06-29</td>\n",
       "      <td>MSFT</td>\n",
       "      <td>195.779999</td>\n",
       "      <td>198.529999</td>\n",
       "      <td>193.550003</td>\n",
       "      <td>192.670929</td>\n",
       "      <td>26701600.0</td>\n",
       "      <td>0.0</td>\n",
       "      <td>4.411950</td>\n",
       "      <td>198.538060</td>\n",
       "      <td>175.565288</td>\n",
       "      <td>58.449995</td>\n",
       "      <td>86.958207</td>\n",
       "      <td>15.681406</td>\n",
       "      <td>183.959318</td>\n",
       "      <td>176.540777</td>\n",
       "      <td>31.780001</td>\n",
       "      <td>0.122255</td>\n",
       "    </tr>\n",
       "    <tr>\n",
       "      <th>4403</th>\n",
       "      <td>2020-06-30</td>\n",
       "      <td>MSFT</td>\n",
       "      <td>197.880005</td>\n",
       "      <td>204.399994</td>\n",
       "      <td>197.740005</td>\n",
       "      <td>197.593506</td>\n",
       "      <td>34310300.0</td>\n",
       "      <td>1.0</td>\n",
       "      <td>4.665079</td>\n",
       "      <td>199.786912</td>\n",
       "      <td>176.122360</td>\n",
       "      <td>60.679236</td>\n",
       "      <td>130.581469</td>\n",
       "      <td>29.201117</td>\n",
       "      <td>184.577913</td>\n",
       "      <td>177.351618</td>\n",
       "      <td>30.430000</td>\n",
       "      <td>0.867399</td>\n",
       "    </tr>\n",
       "  </tbody>\n",
       "</table>\n",
       "</div>"
      ],
      "text/plain": [
       "            date   tic        open        high         low       close  \\\n",
       "4399  2020-06-24  MSFT  201.600006  203.250000  196.559998  192.088364   \n",
       "4400  2020-06-25  MSFT  197.800003  200.610001  195.470001  194.515717   \n",
       "4401  2020-06-26  MSFT  199.729996  199.889999  194.880005  190.622253   \n",
       "4402  2020-06-29  MSFT  195.779999  198.529999  193.550003  192.670929   \n",
       "4403  2020-06-30  MSFT  197.880005  204.399994  197.740005  197.593506   \n",
       "\n",
       "          volume  day      macd     boll_ub     boll_lb     rsi_30  \\\n",
       "4399  36740600.0  2.0  4.715499  196.994507  172.484309  58.946928   \n",
       "4400  27803900.0  3.0  4.814099  197.952417  173.365340  60.055350   \n",
       "4401  54675800.0  4.0  4.525898  198.211058  174.376671  57.480191   \n",
       "4402  26701600.0  0.0  4.411950  198.538060  175.565288  58.449995   \n",
       "4403  34310300.0  1.0  4.665079  199.786912  176.122360  60.679236   \n",
       "\n",
       "          cci_30      dx_30  close_30_sma  close_60_sma        vix  turbulence  \n",
       "4399  146.456068  26.607861    182.238207    174.415711  33.840000    0.755765  \n",
       "4400  127.469897  22.709235    182.920745    175.112644  32.220001    0.178882  \n",
       "4401   97.130778  20.561175    183.448328    175.835054  34.730000    0.754050  \n",
       "4402   86.958207  15.681406    183.959318    176.540777  31.780001    0.122255  \n",
       "4403  130.581469  29.201117    184.577913    177.351618  30.430000    0.867399  "
      ]
     },
     "execution_count": 23,
     "metadata": {},
     "output_type": "execute_result"
    }
   ],
   "source": [
    "MSFT_train.tail()"
   ]
  },
  {
   "cell_type": "code",
   "execution_count": 24,
   "metadata": {
    "colab": {
     "base_uri": "https://localhost:8080/",
     "height": 357
    },
    "id": "k9zU9YaTTvFq",
    "outputId": "80e64947-4c5c-428f-a98c-6b344d816783"
   },
   "outputs": [
    {
     "data": {
      "text/html": [
       "<div>\n",
       "<style scoped>\n",
       "    .dataframe tbody tr th:only-of-type {\n",
       "        vertical-align: middle;\n",
       "    }\n",
       "\n",
       "    .dataframe tbody tr th {\n",
       "        vertical-align: top;\n",
       "    }\n",
       "\n",
       "    .dataframe thead th {\n",
       "        text-align: right;\n",
       "    }\n",
       "</style>\n",
       "<table border=\"1\" class=\"dataframe\">\n",
       "  <thead>\n",
       "    <tr style=\"text-align: right;\">\n",
       "      <th></th>\n",
       "      <th>date</th>\n",
       "      <th>tic</th>\n",
       "      <th>open</th>\n",
       "      <th>high</th>\n",
       "      <th>low</th>\n",
       "      <th>close</th>\n",
       "      <th>volume</th>\n",
       "      <th>day</th>\n",
       "      <th>macd</th>\n",
       "      <th>boll_ub</th>\n",
       "      <th>boll_lb</th>\n",
       "      <th>rsi_30</th>\n",
       "      <th>cci_30</th>\n",
       "      <th>dx_30</th>\n",
       "      <th>close_30_sma</th>\n",
       "      <th>close_60_sma</th>\n",
       "      <th>vix</th>\n",
       "      <th>turbulence</th>\n",
       "    </tr>\n",
       "  </thead>\n",
       "  <tbody>\n",
       "    <tr>\n",
       "      <th>0</th>\n",
       "      <td>2020-07-01</td>\n",
       "      <td>MSFT</td>\n",
       "      <td>203.139999</td>\n",
       "      <td>206.350006</td>\n",
       "      <td>201.770004</td>\n",
       "      <td>198.748917</td>\n",
       "      <td>32061200.0</td>\n",
       "      <td>2.0</td>\n",
       "      <td>4.902407</td>\n",
       "      <td>201.034482</td>\n",
       "      <td>176.752563</td>\n",
       "      <td>61.184891</td>\n",
       "      <td>140.812367</td>\n",
       "      <td>33.015146</td>\n",
       "      <td>185.276334</td>\n",
       "      <td>177.997107</td>\n",
       "      <td>28.620001</td>\n",
       "      <td>0.023185</td>\n",
       "    </tr>\n",
       "    <tr>\n",
       "      <th>1</th>\n",
       "      <td>2020-07-02</td>\n",
       "      <td>MSFT</td>\n",
       "      <td>205.679993</td>\n",
       "      <td>208.020004</td>\n",
       "      <td>205.000000</td>\n",
       "      <td>200.263550</td>\n",
       "      <td>29315800.0</td>\n",
       "      <td>3.0</td>\n",
       "      <td>5.153304</td>\n",
       "      <td>201.958580</td>\n",
       "      <td>178.094609</td>\n",
       "      <td>61.850192</td>\n",
       "      <td>146.838407</td>\n",
       "      <td>36.163399</td>\n",
       "      <td>185.943036</td>\n",
       "      <td>178.696564</td>\n",
       "      <td>27.680000</td>\n",
       "      <td>0.049385</td>\n",
       "    </tr>\n",
       "    <tr>\n",
       "      <th>2</th>\n",
       "      <td>2020-07-06</td>\n",
       "      <td>MSFT</td>\n",
       "      <td>208.830002</td>\n",
       "      <td>211.130005</td>\n",
       "      <td>208.089996</td>\n",
       "      <td>204.574493</td>\n",
       "      <td>31897600.0</td>\n",
       "      <td>0.0</td>\n",
       "      <td>5.635042</td>\n",
       "      <td>204.092355</td>\n",
       "      <td>178.242516</td>\n",
       "      <td>63.682996</td>\n",
       "      <td>163.572060</td>\n",
       "      <td>41.625094</td>\n",
       "      <td>186.825610</td>\n",
       "      <td>179.441406</td>\n",
       "      <td>27.940001</td>\n",
       "      <td>0.592298</td>\n",
       "    </tr>\n",
       "    <tr>\n",
       "      <th>3</th>\n",
       "      <td>2020-07-07</td>\n",
       "      <td>MSFT</td>\n",
       "      <td>210.449997</td>\n",
       "      <td>214.669998</td>\n",
       "      <td>207.990005</td>\n",
       "      <td>202.195709</td>\n",
       "      <td>33600700.0</td>\n",
       "      <td>1.0</td>\n",
       "      <td>5.758495</td>\n",
       "      <td>205.334808</td>\n",
       "      <td>178.931238</td>\n",
       "      <td>61.983174</td>\n",
       "      <td>153.212952</td>\n",
       "      <td>47.129113</td>\n",
       "      <td>187.626302</td>\n",
       "      <td>180.146439</td>\n",
       "      <td>29.430000</td>\n",
       "      <td>0.290708</td>\n",
       "    </tr>\n",
       "    <tr>\n",
       "      <th>4</th>\n",
       "      <td>2020-07-08</td>\n",
       "      <td>MSFT</td>\n",
       "      <td>210.070007</td>\n",
       "      <td>213.259995</td>\n",
       "      <td>208.690002</td>\n",
       "      <td>206.642563</td>\n",
       "      <td>33600000.0</td>\n",
       "      <td>2.0</td>\n",
       "      <td>6.144328</td>\n",
       "      <td>207.406231</td>\n",
       "      <td>179.095862</td>\n",
       "      <td>63.849205</td>\n",
       "      <td>152.108551</td>\n",
       "      <td>47.129113</td>\n",
       "      <td>188.638007</td>\n",
       "      <td>180.919616</td>\n",
       "      <td>28.080000</td>\n",
       "      <td>0.615544</td>\n",
       "    </tr>\n",
       "  </tbody>\n",
       "</table>\n",
       "</div>"
      ],
      "text/plain": [
       "         date   tic        open        high         low       close  \\\n",
       "0  2020-07-01  MSFT  203.139999  206.350006  201.770004  198.748917   \n",
       "1  2020-07-02  MSFT  205.679993  208.020004  205.000000  200.263550   \n",
       "2  2020-07-06  MSFT  208.830002  211.130005  208.089996  204.574493   \n",
       "3  2020-07-07  MSFT  210.449997  214.669998  207.990005  202.195709   \n",
       "4  2020-07-08  MSFT  210.070007  213.259995  208.690002  206.642563   \n",
       "\n",
       "       volume  day      macd     boll_ub     boll_lb     rsi_30      cci_30  \\\n",
       "0  32061200.0  2.0  4.902407  201.034482  176.752563  61.184891  140.812367   \n",
       "1  29315800.0  3.0  5.153304  201.958580  178.094609  61.850192  146.838407   \n",
       "2  31897600.0  0.0  5.635042  204.092355  178.242516  63.682996  163.572060   \n",
       "3  33600700.0  1.0  5.758495  205.334808  178.931238  61.983174  153.212952   \n",
       "4  33600000.0  2.0  6.144328  207.406231  179.095862  63.849205  152.108551   \n",
       "\n",
       "       dx_30  close_30_sma  close_60_sma        vix  turbulence  \n",
       "0  33.015146    185.276334    177.997107  28.620001    0.023185  \n",
       "1  36.163399    185.943036    178.696564  27.680000    0.049385  \n",
       "2  41.625094    186.825610    179.441406  27.940001    0.592298  \n",
       "3  47.129113    187.626302    180.146439  29.430000    0.290708  \n",
       "4  47.129113    188.638007    180.919616  28.080000    0.615544  "
      ]
     },
     "execution_count": 24,
     "metadata": {},
     "output_type": "execute_result"
    }
   ],
   "source": [
    "MSFT_trade.head()"
   ]
  },
  {
   "cell_type": "code",
   "execution_count": 25,
   "metadata": {
    "colab": {
     "base_uri": "https://localhost:8080/"
    },
    "id": "zYN573SOHhxG",
    "outputId": "460cd177-65d2-46f8-eb40-eaeda045c4bb"
   },
   "outputs": [
    {
     "data": {
      "text/plain": [
       "['macd',\n",
       " 'boll_ub',\n",
       " 'boll_lb',\n",
       " 'rsi_30',\n",
       " 'cci_30',\n",
       " 'dx_30',\n",
       " 'close_30_sma',\n",
       " 'close_60_sma']"
      ]
     },
     "execution_count": 25,
     "metadata": {},
     "output_type": "execute_result"
    }
   ],
   "source": [
    "INDICATORS"
   ]
  },
  {
   "cell_type": "code",
   "execution_count": 27,
   "metadata": {
    "colab": {
     "base_uri": "https://localhost:8080/"
    },
    "id": "Q2zqII8rMIqn",
    "outputId": "d2e2b678-04f8-44be-96ea-3523903780eb"
   },
   "outputs": [
    {
     "name": "stdout",
     "output_type": "stream",
     "text": [
      "Stock Dimension: 1, State Space: 11\n"
     ]
    }
   ],
   "source": [
    "stock_dimension = len(MSFT_train.tic.unique())\n",
    "state_space = 1 + 2*stock_dimension + len(INDICATORS)*stock_dimension\n",
    "print(f\"Stock Dimension: {stock_dimension}, State Space: {state_space}\")\n"
   ]
  },
  {
   "cell_type": "code",
   "execution_count": null,
   "metadata": {
    "id": "AWyp84Ltto19"
   },
   "outputs": [],
   "source": [
    "buy_cost_list = sell_cost_list = [0.001] * stock_dimension\n",
    "num_stock_shares = [0] * stock_dimension\n",
    "\n",
    "env_kwargs = {\n",
    "    \"hmax\": 100,\n",
    "    \"initial_amount\": 1000000,\n",
    "    \"num_stock_shares\": num_stock_shares,\n",
    "    \"buy_cost_pct\": buy_cost_list,\n",
    "    \"sell_cost_pct\": sell_cost_list,\n",
    "    \"state_space\": state_space,\n",
    "    \"stock_dim\": stock_dimension,\n",
    "    \"tech_indicator_list\": INDICATORS,\n",
    "    \"action_space\": stock_dimension,\n",
    "    \"reward_scaling\": 1e-4\n",
    "}\n",
    "\n",
    "\n",
    "e_train_gym = StockTradingEnv(df = train, **env_kwargs)\n"
   ]
  },
  {
   "cell_type": "markdown",
   "metadata": {
    "id": "64EoqOrQjiVf"
   },
   "source": [
    "## Environment for Training\n",
    "\n"
   ]
  },
  {
   "cell_type": "code",
   "execution_count": null,
   "metadata": {
    "colab": {
     "base_uri": "https://localhost:8080/"
    },
    "id": "xwSvvPjutpqS",
    "outputId": "3645668e-ba1f-4610-9789-bc212eb9b776"
   },
   "outputs": [],
   "source": [
    "env_train, _ = e_train_gym.get_sb_env()\n",
    "print(type(env_train))"
   ]
  },
  {
   "cell_type": "markdown",
   "metadata": {
    "id": "HMNR5nHjh1iz"
   },
   "source": [
    "<a id='5'></a>\n",
    "# Part 6: Train DRL Agents\n",
    "* The DRL algorithms are from **Stable Baselines 3**. Users are also encouraged to try **ElegantRL** and **Ray RLlib**.\n",
    "* FinRL includes fine-tuned standard DRL algorithms, such as DQN, DDPG, Multi-Agent DDPG, PPO, SAC, A2C and TD3. We also allow users to\n",
    "design their own DRL algorithms by adapting these DRL algorithms."
   ]
  },
  {
   "cell_type": "code",
   "execution_count": null,
   "metadata": {
    "id": "364PsqckttcQ"
   },
   "outputs": [],
   "source": [
    "agent = DRLAgent(env = env_train)\n",
    "\n",
    "if_using_a2c = False\n",
    "if_using_ddpg = False\n",
    "if_using_ppo = False\n",
    "if_using_td3 = False\n",
    "if_using_sac = True\n"
   ]
  },
  {
   "cell_type": "markdown",
   "metadata": {
    "id": "YDmqOyF9h1iz"
   },
   "source": [
    "### Agent Training: 5 algorithms (A2C, DDPG, PPO, TD3, SAC)\n"
   ]
  },
  {
   "cell_type": "markdown",
   "metadata": {
    "id": "uijiWgkuh1jB"
   },
   "source": [
    "### Agent 1: A2C\n"
   ]
  },
  {
   "cell_type": "code",
   "execution_count": null,
   "metadata": {
    "colab": {
     "base_uri": "https://localhost:8080/"
    },
    "id": "GUCnkn-HIbmj",
    "outputId": "a2bdd15c-c366-4f89-e6de-6b0572c2ad23"
   },
   "outputs": [],
   "source": [
    "agent = DRLAgent(env = env_train)\n",
    "model_a2c = agent.get_model(\"a2c\")\n",
    "\n",
    "if if_using_a2c:\n",
    "  # set up logger\n",
    "  tmp_path = RESULTS_DIR + '/a2c'\n",
    "  new_logger_a2c = configure(tmp_path, [\"stdout\", \"csv\", \"tensorboard\"])\n",
    "  # Set new logger\n",
    "  model_a2c.set_logger(new_logger_a2c)\n"
   ]
  },
  {
   "cell_type": "code",
   "execution_count": null,
   "metadata": {
    "id": "0GVpkWGqH4-D"
   },
   "outputs": [],
   "source": [
    "trained_a2c = agent.train_model(model=model_a2c, \n",
    "                             tb_log_name='a2c',\n",
    "                             total_timesteps=50000) if if_using_a2c else None"
   ]
  },
  {
   "cell_type": "markdown",
   "metadata": {
    "id": "MRiOtrywfAo1"
   },
   "source": [
    "### Agent 2: DDPG"
   ]
  },
  {
   "cell_type": "code",
   "execution_count": null,
   "metadata": {
    "colab": {
     "base_uri": "https://localhost:8080/"
    },
    "id": "M2YadjfnLwgt",
    "outputId": "211f6ae4-c91e-41df-8906-df246e090f75"
   },
   "outputs": [],
   "source": [
    "agent = DRLAgent(env = env_train)\n",
    "model_ddpg = agent.get_model(\"ddpg\")\n",
    "\n",
    "if if_using_ddpg:\n",
    "  # set up logger\n",
    "  tmp_path = RESULTS_DIR + '/ddpg'\n",
    "  new_logger_ddpg = configure(tmp_path, [\"stdout\", \"csv\", \"tensorboard\"])\n",
    "  # Set new logger\n",
    "  model_ddpg.set_logger(new_logger_ddpg)"
   ]
  },
  {
   "cell_type": "code",
   "execution_count": null,
   "metadata": {
    "id": "tCDa78rqfO_a"
   },
   "outputs": [],
   "source": [
    "trained_ddpg = agent.train_model(model=model_ddpg, \n",
    "                             tb_log_name='ddpg',\n",
    "                             total_timesteps=50000) if if_using_ddpg else None"
   ]
  },
  {
   "cell_type": "markdown",
   "metadata": {
    "id": "_gDkU-j-fCmZ"
   },
   "source": [
    "### Agent 3: PPO"
   ]
  },
  {
   "cell_type": "code",
   "execution_count": null,
   "metadata": {
    "colab": {
     "base_uri": "https://localhost:8080/"
    },
    "id": "y5D5PFUhMzSV",
    "outputId": "3405d353-0a08-4855-ca59-98098968dd11"
   },
   "outputs": [],
   "source": [
    "agent = DRLAgent(env = env_train)\n",
    "PPO_PARAMS = {\n",
    "    \"n_steps\": 2048,\n",
    "    \"ent_coef\": 0.01,\n",
    "    \"learning_rate\": 0.00025,\n",
    "    \"batch_size\": 128,\n",
    "}\n",
    "model_ppo = agent.get_model(\"ppo\",model_kwargs = PPO_PARAMS)\n",
    "\n",
    "if if_using_ppo:\n",
    "  # set up logger\n",
    "  tmp_path = RESULTS_DIR + '/ppo'\n",
    "  new_logger_ppo = configure(tmp_path, [\"stdout\", \"csv\", \"tensorboard\"])\n",
    "  # Set new logger\n",
    "  model_ppo.set_logger(new_logger_ppo)"
   ]
  },
  {
   "cell_type": "code",
   "execution_count": null,
   "metadata": {
    "id": "Gt8eIQKYM4G3"
   },
   "outputs": [],
   "source": [
    "trained_ppo = agent.train_model(model=model_ppo, \n",
    "                             tb_log_name='ppo',\n",
    "                             total_timesteps=50000) if if_using_ppo else None"
   ]
  },
  {
   "cell_type": "markdown",
   "metadata": {
    "id": "3Zpv4S0-fDBv"
   },
   "source": [
    "### Agent 4: TD3"
   ]
  },
  {
   "cell_type": "code",
   "execution_count": null,
   "metadata": {
    "colab": {
     "base_uri": "https://localhost:8080/"
    },
    "id": "JSAHhV4Xc-bh",
    "outputId": "802fef04-8df5-4df2-f710-e5b08941842f"
   },
   "outputs": [],
   "source": [
    "agent = DRLAgent(env = env_train)\n",
    "TD3_PARAMS = {\"batch_size\": 100, \n",
    "              \"buffer_size\": 1000000, \n",
    "              \"learning_rate\": 0.001}\n",
    "\n",
    "model_td3 = agent.get_model(\"td3\",model_kwargs = TD3_PARAMS)\n",
    "\n",
    "if if_using_td3:\n",
    "  # set up logger\n",
    "  tmp_path = RESULTS_DIR + '/td3'\n",
    "  new_logger_td3 = configure(tmp_path, [\"stdout\", \"csv\", \"tensorboard\"])\n",
    "  # Set new logger\n",
    "  model_td3.set_logger(new_logger_td3)"
   ]
  },
  {
   "cell_type": "code",
   "execution_count": null,
   "metadata": {
    "id": "OSRxNYAxdKpU"
   },
   "outputs": [],
   "source": [
    "trained_td3 = agent.train_model(model=model_td3, \n",
    "                             tb_log_name='td3',\n",
    "                             total_timesteps=30000) if if_using_td3 else None"
   ]
  },
  {
   "cell_type": "markdown",
   "metadata": {
    "id": "Dr49PotrfG01"
   },
   "source": [
    "### Agent 5: SAC"
   ]
  },
  {
   "cell_type": "code",
   "execution_count": null,
   "metadata": {
    "colab": {
     "base_uri": "https://localhost:8080/"
    },
    "id": "xwOhVjqRkCdM",
    "outputId": "3c848ff6-587e-43d1-b50d-a7d521a14b4f"
   },
   "outputs": [],
   "source": [
    "agent = DRLAgent(env = env_train)\n",
    "SAC_PARAMS = {\n",
    "    \"batch_size\": 128,\n",
    "    \"buffer_size\": 100000,\n",
    "    \"learning_rate\": 0.0001,\n",
    "    \"learning_starts\": 100,\n",
    "    \"ent_coef\": \"auto_0.1\",\n",
    "}\n",
    "\n",
    "model_sac = agent.get_model(\"sac\",model_kwargs = SAC_PARAMS)\n",
    "\n",
    "if if_using_sac:\n",
    "  # set up logger\n",
    "  tmp_path = RESULTS_DIR + '/sac'\n",
    "  new_logger_sac = configure(tmp_path, [\"stdout\", \"csv\", \"tensorboard\"])\n",
    "  # Set new logger\n",
    "  model_sac.set_logger(new_logger_sac)"
   ]
  },
  {
   "cell_type": "code",
   "execution_count": null,
   "metadata": {
    "colab": {
     "base_uri": "https://localhost:8080/"
    },
    "id": "K8RSdKCckJyH",
    "outputId": "4d65a11b-32b0-4c3f-b0da-e1b59fc6e194"
   },
   "outputs": [],
   "source": [
    "\n",
    "trained_sac = agent.train_model(model=model_sac, \n",
    "                             tb_log_name='sac',\n",
    "                             total_timesteps = 40000) if if_using_sac else None"
   ]
  },
  {
   "cell_type": "markdown",
   "metadata": {
    "id": "f2wZgkQXh1jE"
   },
   "source": [
    "## In-sample Performance\n",
    "\n",
    "Assume that the initial capital is $1,000,000."
   ]
  },
  {
   "cell_type": "markdown",
   "metadata": {
    "id": "bEv5KGC8h1jE"
   },
   "source": [
    "### Set turbulence threshold\n",
    "Set the turbulence threshold to be greater than the maximum of insample turbulence data. If current turbulence index is greater than the threshold, then we assume that the current market is volatile"
   ]
  },
  {
   "cell_type": "code",
   "execution_count": null,
   "metadata": {
    "id": "efwBi84ch1jE"
   },
   "outputs": [],
   "source": [
    "data_risk_indicator = processed_full[(processed_full.date<TRAIN_END_DATE) & (processed_full.date>=TRAIN_START_DATE)]\n",
    "insample_risk_indicator = data_risk_indicator.drop_duplicates(subset=['date'])"
   ]
  },
  {
   "cell_type": "code",
   "execution_count": null,
   "metadata": {
    "colab": {
     "base_uri": "https://localhost:8080/"
    },
    "id": "VHZMBpSqh1jG",
    "outputId": "73edde3b-1414-4a0d-f876-6460de2ff8e1"
   },
   "outputs": [],
   "source": [
    "insample_risk_indicator.vix.describe()"
   ]
  },
  {
   "cell_type": "code",
   "execution_count": null,
   "metadata": {
    "colab": {
     "base_uri": "https://localhost:8080/"
    },
    "id": "BDkszkMloRWT",
    "outputId": "c5df1f2f-ed52-4107-a3af-a358767ae155"
   },
   "outputs": [],
   "source": [
    "insample_risk_indicator.vix.quantile(0.996)"
   ]
  },
  {
   "cell_type": "code",
   "execution_count": null,
   "metadata": {
    "colab": {
     "base_uri": "https://localhost:8080/"
    },
    "id": "AL7hs7svnNWT",
    "outputId": "ab5a1015-3f83-41b7-ba65-1487f3188588"
   },
   "outputs": [],
   "source": [
    "insample_risk_indicator.turbulence.describe()"
   ]
  },
  {
   "cell_type": "code",
   "execution_count": null,
   "metadata": {
    "colab": {
     "base_uri": "https://localhost:8080/"
    },
    "id": "N78hfHckoqJ9",
    "outputId": "2c8a54d6-022f-4716-dc6d-22a450f5b9ab"
   },
   "outputs": [],
   "source": [
    "insample_risk_indicator.turbulence.quantile(0.996)"
   ]
  },
  {
   "cell_type": "markdown",
   "metadata": {
    "id": "U5mmgQF_h1jQ"
   },
   "source": [
    "### Trading (Out-of-sample Performance)\n",
    "\n",
    "We update periodically in order to take full advantage of the data, e.g., retrain quarterly, monthly or weekly. We also tune the parameters along the way, in this notebook we use the in-sample data from 2009-01 to 2020-07 to tune the parameters once, so there is some alpha decay here as the length of trade date extends. \n",
    "\n",
    "Numerous hyperparameters – e.g. the learning rate, the total number of samples to train on – influence the learning process and are usually determined by testing some variations."
   ]
  },
  {
   "cell_type": "code",
   "execution_count": null,
   "metadata": {
    "id": "cIqoV0GSI52v"
   },
   "outputs": [],
   "source": [
    "e_trade_gym = StockTradingEnv(df = trade, turbulence_threshold = 70,risk_indicator_col='vix', **env_kwargs)\n",
    "# env_trade, obs_trade = e_trade_gym.get_sb_env()"
   ]
  },
  {
   "cell_type": "code",
   "execution_count": null,
   "metadata": {
    "colab": {
     "base_uri": "https://localhost:8080/",
     "height": 357
    },
    "id": "W_XNgGsBMeVw",
    "outputId": "56d2af8e-7ee7-4248-ce7a-3132625c61b1"
   },
   "outputs": [],
   "source": [
    "trade.head()"
   ]
  },
  {
   "cell_type": "code",
   "execution_count": null,
   "metadata": {
    "colab": {
     "base_uri": "https://localhost:8080/"
    },
    "id": "eLOnL5eYh1jR",
    "outputId": "d31d2209-05ef-41df-fd8f-ee081d427949"
   },
   "outputs": [],
   "source": [
    "trained_moedl = trained_sac\n",
    "df_account_value, df_actions = DRLAgent.DRL_prediction(\n",
    "    model=trained_moedl, \n",
    "    environment = e_trade_gym)"
   ]
  },
  {
   "cell_type": "code",
   "execution_count": null,
   "metadata": {
    "colab": {
     "base_uri": "https://localhost:8080/"
    },
    "id": "ERxw3KqLkcP4",
    "outputId": "780c7269-0139-42e0-8ad6-081fd93717bf"
   },
   "outputs": [],
   "source": [
    "df_account_value.shape"
   ]
  },
  {
   "cell_type": "code",
   "execution_count": null,
   "metadata": {
    "colab": {
     "base_uri": "https://localhost:8080/",
     "height": 206
    },
    "id": "2yRkNguY5yvp",
    "outputId": "13f1ace3-c343-4bee-e0c1-214b2f8a1372"
   },
   "outputs": [],
   "source": [
    "df_account_value.tail()"
   ]
  },
  {
   "cell_type": "code",
   "execution_count": null,
   "metadata": {
    "colab": {
     "base_uri": "https://localhost:8080/",
     "height": 267
    },
    "id": "nFlK5hNbWVFk",
    "outputId": "a635843e-7732-47ce-8044-9c87a33de736"
   },
   "outputs": [],
   "source": [
    "df_actions.head()"
   ]
  },
  {
   "cell_type": "markdown",
   "metadata": {
    "id": "W6vvNSC6h1jZ"
   },
   "source": [
    "<a id='6'></a>\n",
    "# Part 7: Backtesting Results\n",
    "Backtesting plays a key role in evaluating the performance of a trading strategy. Automated backtesting tool is preferred because it reduces the human error. We usually use the Quantopian pyfolio package to backtest our trading strategies. It is easy to use and consists of various individual plots that provide a comprehensive image of the performance of a trading strategy."
   ]
  },
  {
   "cell_type": "markdown",
   "metadata": {
    "id": "Lr2zX7ZxNyFQ"
   },
   "source": [
    "<a id='6.1'></a>\n",
    "## 7.1 BackTestStats\n",
    "pass in df_account_value, this information is stored in env class\n"
   ]
  },
  {
   "cell_type": "code",
   "execution_count": null,
   "metadata": {
    "colab": {
     "base_uri": "https://localhost:8080/"
    },
    "id": "Nzkr9yv-AdV_",
    "outputId": "216032a2-5566-4dba-db83-7d7d880b1e88"
   },
   "outputs": [],
   "source": [
    "print(\"==============Get Backtest Results===========\")\n",
    "now = datetime.datetime.now().strftime('%Y%m%d-%Hh%M')\n",
    "\n",
    "perf_stats_all = backtest_stats(account_value=df_account_value)\n",
    "perf_stats_all = pd.DataFrame(perf_stats_all)\n",
    "perf_stats_all.to_csv(\"./\"+RESULTS_DIR+\"/perf_stats_all_\"+now+'.csv')"
   ]
  },
  {
   "cell_type": "code",
   "execution_count": null,
   "metadata": {
    "colab": {
     "base_uri": "https://localhost:8080/"
    },
    "id": "QkV-LB66iwhD",
    "outputId": "7231e720-1598-45ac-ff49-9f8d29f296fa"
   },
   "outputs": [],
   "source": [
    "#baseline stats\n",
    "print(\"==============Get Baseline Stats===========\")\n",
    "baseline_df = get_baseline(\n",
    "        ticker=\"^DJI\", \n",
    "        start = df_account_value.loc[0,'date'],\n",
    "        end = df_account_value.loc[len(df_account_value)-1,'date'])\n",
    "\n",
    "stats = backtest_stats(baseline_df, value_col_name = 'close')\n"
   ]
  },
  {
   "cell_type": "code",
   "execution_count": null,
   "metadata": {
    "colab": {
     "base_uri": "https://localhost:8080/",
     "height": 35
    },
    "id": "qg1kvfemrrQH",
    "outputId": "fc34eb83-c616-42b3-98c7-8f8318644061"
   },
   "outputs": [],
   "source": [
    "df_account_value.loc[0,'date']"
   ]
  },
  {
   "cell_type": "code",
   "execution_count": null,
   "metadata": {
    "colab": {
     "base_uri": "https://localhost:8080/",
     "height": 35
    },
    "id": "tt1bzL5OrsTa",
    "outputId": "59ed1fd0-5a77-40e2-8def-229148fec9db"
   },
   "outputs": [],
   "source": [
    "df_account_value.loc[len(df_account_value)-1,'date']"
   ]
  },
  {
   "cell_type": "markdown",
   "metadata": {
    "id": "9U6Suru3h1jc"
   },
   "source": [
    "<a id='6.2'></a>\n",
    "## 7.2 BackTestPlot"
   ]
  },
  {
   "cell_type": "code",
   "execution_count": null,
   "metadata": {
    "colab": {
     "base_uri": "https://localhost:8080/",
     "height": 1000
    },
    "id": "lKRGftSS7pNM",
    "outputId": "db260938-69a7-4417-fed7-25679d43b0f6"
   },
   "outputs": [],
   "source": [
    "print(\"==============Compare to DJIA===========\")\n",
    "%matplotlib inline\n",
    "# S&P 500: ^GSPC\n",
    "# Dow Jones Index: ^DJI\n",
    "# NASDAQ 100: ^NDX\n",
    "backtest_plot(df_account_value, \n",
    "             baseline_ticker = '^DJI', \n",
    "             baseline_start = df_account_value.loc[0,'date'],\n",
    "             baseline_end = df_account_value.loc[len(df_account_value)-1,'date'])"
   ]
  }
 ],
 "metadata": {
  "colab": {
   "collapsed_sections": [
    "_gDkU-j-fCmZ",
    "3Zpv4S0-fDBv"
   ],
   "name": "Stock_NeurIPS2018.ipynb",
   "provenance": []
  },
  "kernelspec": {
   "display_name": "Python 3 (ipykernel)",
   "language": "python",
   "name": "python3"
  },
  "language_info": {
   "codemirror_mode": {
    "name": "ipython",
    "version": 3
   },
   "file_extension": ".py",
   "mimetype": "text/x-python",
   "name": "python",
   "nbconvert_exporter": "python",
   "pygments_lexer": "ipython3",
   "version": "3.10.12"
  }
 },
 "nbformat": 4,
 "nbformat_minor": 1
}
